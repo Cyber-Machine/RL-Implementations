{
 "cells": [
  {
   "cell_type": "code",
   "execution_count": 1,
   "id": "6a432d3d",
   "metadata": {},
   "outputs": [],
   "source": [
    "# Importing Env from OpenAI Gym \n",
    "from gym import Env\n",
    "from gym.spaces import Discrete, Box\n",
    "import numpy as np\n",
    "import random"
   ]
  },
  {
   "cell_type": "markdown",
   "id": "4f3f72e0",
   "metadata": {},
   "source": [
    "## Creating a custom Shower env "
   ]
  },
  {
   "cell_type": "code",
   "execution_count": 2,
   "id": "01c373f3",
   "metadata": {},
   "outputs": [],
   "source": [
    "class ShowerEnv(Env):\n",
    "    def __init__(self):\n",
    "        # Actions we can take, down, stay, up\n",
    "        self.action_space = Discrete(5)\n",
    "        # Temperature array\n",
    "        self.observation_space = Box(low=np.array([0]), high=np.array([100]))\n",
    "        # Set start temp\n",
    "        self.state = 38 + random.randint(-8,8)\n",
    "        # Set shower length\n",
    "        self.shower_length = 60\n",
    "        \n",
    "    def step(self, action):\n",
    "        # Apply action\n",
    "        self.state += action -2 \n",
    "        # Reduce shower length by 1 second\n",
    "        self.shower_length -= 1 \n",
    "        \n",
    "        # Calculate reward\n",
    "        if self.state >=37 and self.state <=39: \n",
    "            reward = 10\n",
    "        else: \n",
    "            reward = -10\n",
    "        \n",
    "        # Check if shower is done\n",
    "        if self.shower_length <= 0: \n",
    "            done = True\n",
    "        else:\n",
    "            done = False\n",
    "        \n",
    "        # Apply temperature noise\n",
    "        #self.state += random.randint(-1,1)\n",
    "        # Set placeholder for info\n",
    "        info = {}\n",
    "        \n",
    "        # Return step information\n",
    "        return self.state, reward, done, info\n",
    "\n",
    "    def render(self):\n",
    "        # later implement\n",
    "        pass\n",
    "    \n",
    "    def reset(self):\n",
    "        # Reset shower temperature\n",
    "        self.state = 38 + random.randint(-8,8)\n",
    "        # Reset shower time\n",
    "        self.shower_length = 60 \n",
    "        return self.state\n",
    "    "
   ]
  },
  {
   "cell_type": "code",
   "execution_count": 3,
   "id": "b24dce39",
   "metadata": {},
   "outputs": [
    {
     "name": "stderr",
     "output_type": "stream",
     "text": [
      "/home/eyepatch/anaconda3/lib/python3.9/site-packages/gym/spaces/box.py:128: UserWarning: \u001b[33mWARN: Box bound precision lowered by casting to float32\u001b[0m\n",
      "  logger.warn(f\"Box bound precision lowered by casting to {self.dtype}\")\n"
     ]
    }
   ],
   "source": [
    "env = ShowerEnv()"
   ]
  },
  {
   "cell_type": "code",
   "execution_count": 4,
   "id": "ba09da7b",
   "metadata": {},
   "outputs": [
    {
     "data": {
      "text/plain": [
       "array([76.49387], dtype=float32)"
      ]
     },
     "execution_count": 4,
     "metadata": {},
     "output_type": "execute_result"
    }
   ],
   "source": [
    "env.observation_space.sample()"
   ]
  },
  {
   "cell_type": "code",
   "execution_count": 5,
   "id": "a95162f1",
   "metadata": {},
   "outputs": [
    {
     "data": {
      "text/plain": [
       "1"
      ]
     },
     "execution_count": 5,
     "metadata": {},
     "output_type": "execute_result"
    }
   ],
   "source": [
    "env.action_space.sample()"
   ]
  },
  {
   "cell_type": "code",
   "execution_count": 6,
   "id": "13c2273f",
   "metadata": {},
   "outputs": [
    {
     "name": "stdout",
     "output_type": "stream",
     "text": [
      "Episode:1 Score:-360\n",
      "Episode:2 Score:-520\n",
      "Episode:3 Score:-240\n",
      "Episode:4 Score:-600\n",
      "Episode:5 Score:-480\n",
      "Episode:6 Score:-420\n",
      "Episode:7 Score:-480\n",
      "Episode:8 Score:-600\n",
      "Episode:9 Score:-500\n",
      "Episode:10 Score:-440\n"
     ]
    }
   ],
   "source": [
    "episodes = 10\n",
    "for episode in range(1, episodes+1):\n",
    "    state = env.reset()\n",
    "    done = False\n",
    "    score = 0 \n",
    "    while not done:\n",
    "        action = env.action_space.sample()\n",
    "        n_state, reward, done, info = env.step(action)\n",
    "        score+=reward\n",
    "    print('Episode:{} Score:{}'.format(episode, score))"
   ]
  },
  {
   "cell_type": "markdown",
   "id": "17c21bf8",
   "metadata": {},
   "source": [
    "### Custom Deep Learning Model"
   ]
  },
  {
   "cell_type": "code",
   "execution_count": 7,
   "id": "a2d808ee",
   "metadata": {
    "scrolled": true
   },
   "outputs": [
    {
     "name": "stderr",
     "output_type": "stream",
     "text": [
      "/home/eyepatch/anaconda3/lib/python3.9/site-packages/keras/utils/image_utils.py:36: DeprecationWarning: NEAREST is deprecated and will be removed in Pillow 10 (2023-07-01). Use Resampling.NEAREST or Dither.NONE instead.\n",
      "  'nearest': pil_image.NEAREST,\n",
      "/home/eyepatch/anaconda3/lib/python3.9/site-packages/keras/utils/image_utils.py:37: DeprecationWarning: BILINEAR is deprecated and will be removed in Pillow 10 (2023-07-01). Use Resampling.BILINEAR instead.\n",
      "  'bilinear': pil_image.BILINEAR,\n",
      "/home/eyepatch/anaconda3/lib/python3.9/site-packages/keras/utils/image_utils.py:38: DeprecationWarning: BICUBIC is deprecated and will be removed in Pillow 10 (2023-07-01). Use Resampling.BICUBIC instead.\n",
      "  'bicubic': pil_image.BICUBIC,\n",
      "/home/eyepatch/anaconda3/lib/python3.9/site-packages/keras/utils/image_utils.py:39: DeprecationWarning: HAMMING is deprecated and will be removed in Pillow 10 (2023-07-01). Use Resampling.HAMMING instead.\n",
      "  'hamming': pil_image.HAMMING,\n",
      "/home/eyepatch/anaconda3/lib/python3.9/site-packages/keras/utils/image_utils.py:40: DeprecationWarning: BOX is deprecated and will be removed in Pillow 10 (2023-07-01). Use Resampling.BOX instead.\n",
      "  'box': pil_image.BOX,\n",
      "/home/eyepatch/anaconda3/lib/python3.9/site-packages/keras/utils/image_utils.py:41: DeprecationWarning: LANCZOS is deprecated and will be removed in Pillow 10 (2023-07-01). Use Resampling.LANCZOS instead.\n",
      "  'lanczos': pil_image.LANCZOS,\n"
     ]
    }
   ],
   "source": [
    "import numpy as np\n",
    "from tensorflow.keras.models import Sequential\n",
    "from tensorflow.keras.layers import Dense, Flatten\n",
    "from tensorflow.keras.optimizers import Adam"
   ]
  },
  {
   "cell_type": "code",
   "execution_count": 8,
   "id": "2e7d3cec",
   "metadata": {},
   "outputs": [],
   "source": [
    "states = env.observation_space.shape\n",
    "actions = env.action_space.n"
   ]
  },
  {
   "cell_type": "code",
   "execution_count": 9,
   "id": "bdefd0f2",
   "metadata": {},
   "outputs": [
    {
     "data": {
      "text/plain": [
       "5"
      ]
     },
     "execution_count": 9,
     "metadata": {},
     "output_type": "execute_result"
    }
   ],
   "source": [
    "actions"
   ]
  },
  {
   "cell_type": "code",
   "execution_count": 10,
   "id": "3524193e",
   "metadata": {},
   "outputs": [
    {
     "data": {
      "text/plain": [
       "(1,)"
      ]
     },
     "execution_count": 10,
     "metadata": {},
     "output_type": "execute_result"
    }
   ],
   "source": [
    "states"
   ]
  },
  {
   "cell_type": "code",
   "execution_count": 11,
   "id": "cc57012d",
   "metadata": {},
   "outputs": [],
   "source": [
    "def build_model(states, actions):\n",
    "    model = Sequential()    \n",
    "    model.add(Dense(24, activation='relu', input_shape=states))\n",
    "    model.add(Dense(24, activation='relu'))\n",
    "    model.add(Dense(actions, activation='linear'))\n",
    "    return model"
   ]
  },
  {
   "cell_type": "code",
   "execution_count": 18,
   "id": "8c7748a5",
   "metadata": {},
   "outputs": [],
   "source": [
    "model = build_model(states, actions)"
   ]
  },
  {
   "cell_type": "code",
   "execution_count": 19,
   "id": "1a4162a2",
   "metadata": {},
   "outputs": [
    {
     "name": "stdout",
     "output_type": "stream",
     "text": [
      "Model: \"sequential_2\"\n",
      "_________________________________________________________________\n",
      " Layer (type)                Output Shape              Param #   \n",
      "=================================================================\n",
      " dense_6 (Dense)             (None, 24)                48        \n",
      "                                                                 \n",
      " dense_7 (Dense)             (None, 24)                600       \n",
      "                                                                 \n",
      " dense_8 (Dense)             (None, 5)                 125       \n",
      "                                                                 \n",
      "=================================================================\n",
      "Total params: 773\n",
      "Trainable params: 773\n",
      "Non-trainable params: 0\n",
      "_________________________________________________________________\n"
     ]
    }
   ],
   "source": [
    "model.summary()"
   ]
  },
  {
   "cell_type": "code",
   "execution_count": 20,
   "id": "f9708860",
   "metadata": {},
   "outputs": [],
   "source": [
    "model = build_model(states, actions)"
   ]
  },
  {
   "cell_type": "code",
   "execution_count": 21,
   "id": "149472dd",
   "metadata": {},
   "outputs": [],
   "source": [
    "from rl.agents import DQNAgent\n",
    "from rl.policy import BoltzmannQPolicy\n",
    "from rl.memory import SequentialMemory"
   ]
  },
  {
   "cell_type": "code",
   "execution_count": 22,
   "id": "5c08b15b",
   "metadata": {},
   "outputs": [],
   "source": [
    "def build_agent(model, actions):\n",
    "    policy = BoltzmannQPolicy()\n",
    "    memory = SequentialMemory(limit=50000, window_length=1)\n",
    "    dqn = DQNAgent(model=model, memory=memory, policy=policy, \n",
    "                  nb_actions=actions, nb_steps_warmup=10, target_model_update=1e-2)\n",
    "    return dqn"
   ]
  },
  {
   "cell_type": "code",
   "execution_count": 23,
   "id": "6369bce8",
   "metadata": {},
   "outputs": [
    {
     "name": "stderr",
     "output_type": "stream",
     "text": [
      "2022-09-22 19:31:45.466808: I tensorflow/compiler/mlir/mlir_graph_optimization_pass.cc:354] MLIR V1 optimization pass is not enabled\n"
     ]
    },
    {
     "name": "stdout",
     "output_type": "stream",
     "text": [
      "Training for 50000 steps ...\n",
      "Interval 1 (0 steps performed)\n",
      "\r",
      "    1/10000 [..............................] - ETA: 4:28 - reward: -10.0000"
     ]
    },
    {
     "name": "stderr",
     "output_type": "stream",
     "text": [
      "/home/eyepatch/anaconda3/lib/python3.9/site-packages/keras/engine/training_v1.py:2067: UserWarning: `Model.state_updates` will be removed in a future version. This property should not be used in TensorFlow 2.0, as `updates` are applied automatically.\n",
      "  updates=self.state_updates,\n",
      "/home/eyepatch/anaconda3/lib/python3.9/site-packages/rl/memory.py:37: UserWarning: Not enough entries to sample without replacement. Consider increasing your warm-up phase to avoid oversampling!\n",
      "  warnings.warn('Not enough entries to sample without replacement. Consider increasing your warm-up phase to avoid oversampling!')\n",
      "/home/eyepatch/anaconda3/lib/python3.9/site-packages/rl/memory.py:38: DeprecationWarning: This function is deprecated. Please call randint(1, 10 + 1) instead\n",
      "  batch_idxs = np.random.random_integers(low, high - 1, size=size)\n"
     ]
    },
    {
     "name": "stdout",
     "output_type": "stream",
     "text": [
      "   69/10000 [..............................] - ETA: 1:00 - reward: -8.8406"
     ]
    },
    {
     "name": "stderr",
     "output_type": "stream",
     "text": [
      "/home/eyepatch/anaconda3/lib/python3.9/site-packages/rl/memory.py:38: DeprecationWarning: This function is deprecated. Please call randint(1, 11 + 1) instead\n",
      "  batch_idxs = np.random.random_integers(low, high - 1, size=size)\n",
      "/home/eyepatch/anaconda3/lib/python3.9/site-packages/rl/memory.py:38: DeprecationWarning: This function is deprecated. Please call randint(1, 12 + 1) instead\n",
      "  batch_idxs = np.random.random_integers(low, high - 1, size=size)\n",
      "/home/eyepatch/anaconda3/lib/python3.9/site-packages/rl/memory.py:38: DeprecationWarning: This function is deprecated. Please call randint(1, 13 + 1) instead\n",
      "  batch_idxs = np.random.random_integers(low, high - 1, size=size)\n",
      "/home/eyepatch/anaconda3/lib/python3.9/site-packages/rl/memory.py:38: DeprecationWarning: This function is deprecated. Please call randint(1, 14 + 1) instead\n",
      "  batch_idxs = np.random.random_integers(low, high - 1, size=size)\n",
      "/home/eyepatch/anaconda3/lib/python3.9/site-packages/rl/memory.py:38: DeprecationWarning: This function is deprecated. Please call randint(1, 15 + 1) instead\n",
      "  batch_idxs = np.random.random_integers(low, high - 1, size=size)\n",
      "/home/eyepatch/anaconda3/lib/python3.9/site-packages/rl/memory.py:38: DeprecationWarning: This function is deprecated. Please call randint(1, 16 + 1) instead\n",
      "  batch_idxs = np.random.random_integers(low, high - 1, size=size)\n",
      "/home/eyepatch/anaconda3/lib/python3.9/site-packages/rl/memory.py:38: DeprecationWarning: This function is deprecated. Please call randint(1, 17 + 1) instead\n",
      "  batch_idxs = np.random.random_integers(low, high - 1, size=size)\n",
      "/home/eyepatch/anaconda3/lib/python3.9/site-packages/rl/memory.py:38: DeprecationWarning: This function is deprecated. Please call randint(1, 18 + 1) instead\n",
      "  batch_idxs = np.random.random_integers(low, high - 1, size=size)\n",
      "/home/eyepatch/anaconda3/lib/python3.9/site-packages/rl/memory.py:38: DeprecationWarning: This function is deprecated. Please call randint(1, 19 + 1) instead\n",
      "  batch_idxs = np.random.random_integers(low, high - 1, size=size)\n",
      "/home/eyepatch/anaconda3/lib/python3.9/site-packages/rl/memory.py:38: DeprecationWarning: This function is deprecated. Please call randint(1, 20 + 1) instead\n",
      "  batch_idxs = np.random.random_integers(low, high - 1, size=size)\n",
      "/home/eyepatch/anaconda3/lib/python3.9/site-packages/rl/memory.py:38: DeprecationWarning: This function is deprecated. Please call randint(1, 21 + 1) instead\n",
      "  batch_idxs = np.random.random_integers(low, high - 1, size=size)\n",
      "/home/eyepatch/anaconda3/lib/python3.9/site-packages/rl/memory.py:38: DeprecationWarning: This function is deprecated. Please call randint(1, 22 + 1) instead\n",
      "  batch_idxs = np.random.random_integers(low, high - 1, size=size)\n",
      "/home/eyepatch/anaconda3/lib/python3.9/site-packages/rl/memory.py:38: DeprecationWarning: This function is deprecated. Please call randint(1, 23 + 1) instead\n",
      "  batch_idxs = np.random.random_integers(low, high - 1, size=size)\n",
      "/home/eyepatch/anaconda3/lib/python3.9/site-packages/rl/memory.py:38: DeprecationWarning: This function is deprecated. Please call randint(1, 24 + 1) instead\n",
      "  batch_idxs = np.random.random_integers(low, high - 1, size=size)\n",
      "/home/eyepatch/anaconda3/lib/python3.9/site-packages/rl/memory.py:38: DeprecationWarning: This function is deprecated. Please call randint(1, 25 + 1) instead\n",
      "  batch_idxs = np.random.random_integers(low, high - 1, size=size)\n",
      "/home/eyepatch/anaconda3/lib/python3.9/site-packages/rl/memory.py:38: DeprecationWarning: This function is deprecated. Please call randint(1, 26 + 1) instead\n",
      "  batch_idxs = np.random.random_integers(low, high - 1, size=size)\n",
      "/home/eyepatch/anaconda3/lib/python3.9/site-packages/rl/memory.py:38: DeprecationWarning: This function is deprecated. Please call randint(1, 27 + 1) instead\n",
      "  batch_idxs = np.random.random_integers(low, high - 1, size=size)\n",
      "/home/eyepatch/anaconda3/lib/python3.9/site-packages/rl/memory.py:38: DeprecationWarning: This function is deprecated. Please call randint(1, 28 + 1) instead\n",
      "  batch_idxs = np.random.random_integers(low, high - 1, size=size)\n",
      "/home/eyepatch/anaconda3/lib/python3.9/site-packages/rl/memory.py:38: DeprecationWarning: This function is deprecated. Please call randint(1, 29 + 1) instead\n",
      "  batch_idxs = np.random.random_integers(low, high - 1, size=size)\n",
      "/home/eyepatch/anaconda3/lib/python3.9/site-packages/rl/memory.py:38: DeprecationWarning: This function is deprecated. Please call randint(1, 30 + 1) instead\n",
      "  batch_idxs = np.random.random_integers(low, high - 1, size=size)\n",
      "/home/eyepatch/anaconda3/lib/python3.9/site-packages/rl/memory.py:38: DeprecationWarning: This function is deprecated. Please call randint(1, 31 + 1) instead\n",
      "  batch_idxs = np.random.random_integers(low, high - 1, size=size)\n"
     ]
    },
    {
     "name": "stdout",
     "output_type": "stream",
     "text": [
      "10000/10000 [==============================] - 30s 3ms/step - reward: -4.9920\n",
      "166 episodes - episode_reward: -301.446 [-600.000, 360.000] - loss: 158.375 - mae: 102.522 - mean_q: -121.139\n",
      "\n",
      "Interval 2 (10000 steps performed)\n",
      "10000/10000 [==============================] - 31s 3ms/step - reward: 7.1040\n",
      "167 episodes - episode_reward: 424.910 [-140.000, 600.000] - loss: 186.571 - mae: 87.117 - mean_q: 67.377\n",
      "\n",
      "Interval 3 (20000 steps performed)\n",
      "10000/10000 [==============================] - 30s 3ms/step - reward: 6.5560\n",
      "167 episodes - episode_reward: 393.772 [-200.000, 600.000] - loss: 1027.943 - mae: 273.005 - mean_q: 350.720\n",
      "\n",
      "Interval 4 (30000 steps performed)\n",
      "10000/10000 [==============================] - 31s 3ms/step - reward: 5.9080\n",
      "166 episodes - episode_reward: 354.217 [-160.000, 580.000] - loss: 1174.220 - mae: 290.186 - mean_q: 370.280\n",
      "\n",
      "Interval 5 (40000 steps performed)\n",
      "10000/10000 [==============================] - 31s 3ms/step - reward: 5.7620\n",
      "done, took 153.725 seconds\n"
     ]
    },
    {
     "data": {
      "text/plain": [
       "<keras.callbacks.History at 0x7fc8dc3baa90>"
      ]
     },
     "execution_count": 23,
     "metadata": {},
     "output_type": "execute_result"
    }
   ],
   "source": [
    "dqn = build_agent(model, actions)\n",
    "dqn.compile(Adam(lr=1e-2), metrics=['mae'])\n",
    "dqn.fit(env, nb_steps=50000, visualize=False, verbose=1)"
   ]
  },
  {
   "cell_type": "code",
   "execution_count": 24,
   "id": "88f06190",
   "metadata": {},
   "outputs": [
    {
     "name": "stdout",
     "output_type": "stream",
     "text": [
      "Testing for 100 episodes ...\n",
      "Episode 1: reward: 500.000, steps: 60\n",
      "Episode 2: reward: 500.000, steps: 60\n",
      "Episode 3: reward: 540.000, steps: 60\n",
      "Episode 4: reward: 600.000, steps: 60\n",
      "Episode 5: reward: 560.000, steps: 60\n",
      "Episode 6: reward: 540.000, steps: 60\n",
      "Episode 7: reward: 600.000, steps: 60\n",
      "Episode 8: reward: 560.000, steps: 60\n",
      "Episode 9: reward: 500.000, steps: 60\n",
      "Episode 10: reward: 580.000, steps: 60\n",
      "Episode 11: reward: 580.000, steps: 60\n",
      "Episode 12: reward: 580.000, steps: 60\n",
      "Episode 13: reward: 560.000, steps: 60\n",
      "Episode 14: reward: 600.000, steps: 60\n",
      "Episode 15: reward: 540.000, steps: 60\n",
      "Episode 16: reward: 500.000, steps: 60\n",
      "Episode 17: reward: 500.000, steps: 60\n",
      "Episode 18: reward: 600.000, steps: 60\n",
      "Episode 19: reward: 600.000, steps: 60\n",
      "Episode 20: reward: 600.000, steps: 60\n",
      "Episode 21: reward: 600.000, steps: 60\n",
      "Episode 22: reward: 540.000, steps: 60\n",
      "Episode 23: reward: 600.000, steps: 60\n",
      "Episode 24: reward: 580.000, steps: 60\n",
      "Episode 25: reward: 520.000, steps: 60\n",
      "Episode 26: reward: 600.000, steps: 60\n",
      "Episode 27: reward: 600.000, steps: 60\n",
      "Episode 28: reward: 520.000, steps: 60\n",
      "Episode 29: reward: 520.000, steps: 60\n",
      "Episode 30: reward: 520.000, steps: 60\n",
      "Episode 31: reward: 520.000, steps: 60\n",
      "Episode 32: reward: 600.000, steps: 60\n",
      "Episode 33: reward: 560.000, steps: 60\n",
      "Episode 34: reward: 540.000, steps: 60\n",
      "Episode 35: reward: 500.000, steps: 60\n",
      "Episode 36: reward: 560.000, steps: 60\n",
      "Episode 37: reward: 560.000, steps: 60\n",
      "Episode 38: reward: 520.000, steps: 60\n",
      "Episode 39: reward: 560.000, steps: 60\n",
      "Episode 40: reward: 600.000, steps: 60\n",
      "Episode 41: reward: 520.000, steps: 60\n",
      "Episode 42: reward: 560.000, steps: 60\n",
      "Episode 43: reward: 600.000, steps: 60\n",
      "Episode 44: reward: 600.000, steps: 60\n",
      "Episode 45: reward: 540.000, steps: 60\n",
      "Episode 46: reward: 600.000, steps: 60\n",
      "Episode 47: reward: 540.000, steps: 60\n",
      "Episode 48: reward: 560.000, steps: 60\n",
      "Episode 49: reward: 520.000, steps: 60\n",
      "Episode 50: reward: 520.000, steps: 60\n",
      "Episode 51: reward: 600.000, steps: 60\n",
      "Episode 52: reward: 560.000, steps: 60\n",
      "Episode 53: reward: 540.000, steps: 60\n",
      "Episode 54: reward: 560.000, steps: 60\n",
      "Episode 55: reward: 600.000, steps: 60\n",
      "Episode 56: reward: 580.000, steps: 60\n",
      "Episode 57: reward: 580.000, steps: 60\n",
      "Episode 58: reward: 600.000, steps: 60\n",
      "Episode 59: reward: 520.000, steps: 60\n",
      "Episode 60: reward: 580.000, steps: 60\n",
      "Episode 61: reward: 520.000, steps: 60\n",
      "Episode 62: reward: 600.000, steps: 60\n",
      "Episode 63: reward: 520.000, steps: 60\n",
      "Episode 64: reward: 600.000, steps: 60\n",
      "Episode 65: reward: 560.000, steps: 60\n",
      "Episode 66: reward: 500.000, steps: 60\n",
      "Episode 67: reward: 520.000, steps: 60\n",
      "Episode 68: reward: 540.000, steps: 60\n",
      "Episode 69: reward: 520.000, steps: 60\n",
      "Episode 70: reward: 580.000, steps: 60\n",
      "Episode 71: reward: 600.000, steps: 60\n",
      "Episode 72: reward: 520.000, steps: 60\n",
      "Episode 73: reward: 500.000, steps: 60\n",
      "Episode 74: reward: 600.000, steps: 60\n",
      "Episode 75: reward: 600.000, steps: 60\n",
      "Episode 76: reward: 580.000, steps: 60\n",
      "Episode 77: reward: 580.000, steps: 60\n",
      "Episode 78: reward: 520.000, steps: 60\n",
      "Episode 79: reward: 600.000, steps: 60\n",
      "Episode 80: reward: 560.000, steps: 60\n",
      "Episode 81: reward: 560.000, steps: 60\n",
      "Episode 82: reward: 540.000, steps: 60\n",
      "Episode 83: reward: 600.000, steps: 60\n",
      "Episode 84: reward: 600.000, steps: 60\n",
      "Episode 85: reward: 580.000, steps: 60\n",
      "Episode 86: reward: 500.000, steps: 60\n",
      "Episode 87: reward: 520.000, steps: 60\n",
      "Episode 88: reward: 600.000, steps: 60\n",
      "Episode 89: reward: 540.000, steps: 60\n",
      "Episode 90: reward: 560.000, steps: 60\n",
      "Episode 91: reward: 520.000, steps: 60\n",
      "Episode 92: reward: 600.000, steps: 60\n",
      "Episode 93: reward: 540.000, steps: 60\n",
      "Episode 94: reward: 580.000, steps: 60\n",
      "Episode 95: reward: 520.000, steps: 60\n",
      "Episode 96: reward: 600.000, steps: 60\n",
      "Episode 97: reward: 540.000, steps: 60\n",
      "Episode 98: reward: 580.000, steps: 60\n",
      "Episode 99: reward: 600.000, steps: 60\n",
      "Episode 100: reward: 520.000, steps: 60\n",
      "558.6\n"
     ]
    }
   ],
   "source": [
    "scores = dqn.test(env, nb_episodes=100, visualize=False)\n",
    "print(np.mean(scores.history['episode_reward']))"
   ]
  },
  {
   "cell_type": "code",
   "execution_count": null,
   "id": "6019899d",
   "metadata": {},
   "outputs": [],
   "source": []
  },
  {
   "cell_type": "code",
   "execution_count": null,
   "id": "a2ee9e7f",
   "metadata": {},
   "outputs": [],
   "source": []
  },
  {
   "cell_type": "code",
   "execution_count": null,
   "id": "d2032e52",
   "metadata": {},
   "outputs": [],
   "source": []
  },
  {
   "cell_type": "code",
   "execution_count": null,
   "id": "8a93651c",
   "metadata": {},
   "outputs": [],
   "source": []
  }
 ],
 "metadata": {
  "kernelspec": {
   "display_name": "Python 3 (ipykernel)",
   "language": "python",
   "name": "python3"
  },
  "language_info": {
   "codemirror_mode": {
    "name": "ipython",
    "version": 3
   },
   "file_extension": ".py",
   "mimetype": "text/x-python",
   "name": "python",
   "nbconvert_exporter": "python",
   "pygments_lexer": "ipython3",
   "version": "3.9.12"
  }
 },
 "nbformat": 4,
 "nbformat_minor": 5
}
