{
 "cells": [
  {
   "attachments": {},
   "cell_type": "markdown",
   "metadata": {},
   "source": [
    "## A2C Model\n",
    "\n",
    "Cartpole is a classic environment in Open-AI Gym where our goal is to maximize the amount of time the pole is standing on the moving cart."
   ]
  },
  {
   "cell_type": "code",
   "execution_count": 1,
   "metadata": {},
   "outputs": [],
   "source": [
    "from stable_baselines3 import PPO, A2C , SAC, TD3, DQN\n",
    "from sb3_contrib import QRDQN, TQC\n",
    "from stable_baselines3.common.env_util import make_vec_env\n",
    "from stable_baselines3.common.evaluation import evaluate_policy"
   ]
  },
  {
   "cell_type": "code",
   "execution_count": 2,
   "metadata": {},
   "outputs": [],
   "source": [
    "# I will be using a maximum of 20K training steps for the model\n",
    "training_steps = 20000"
   ]
  },
  {
   "cell_type": "code",
   "execution_count": 3,
   "metadata": {},
   "outputs": [],
   "source": [
    "cartpole = \"CartPole-v1\""
   ]
  },
  {
   "cell_type": "code",
   "execution_count": 4,
   "metadata": {},
   "outputs": [],
   "source": [
    "eval_envs_cartpole = make_vec_env(cartpole , n_envs=10)"
   ]
  },
  {
   "cell_type": "code",
   "execution_count": 5,
   "metadata": {},
   "outputs": [
    {
     "name": "stdout",
     "output_type": "stream",
     "text": [
      "Using cuda device\n",
      "Creating environment from the given name 'CartPole-v1'\n",
      "Wrapping the env with a `Monitor` wrapper\n",
      "Wrapping the env in a DummyVecEnv.\n",
      "------------------------------------\n",
      "| rollout/              |          |\n",
      "|    ep_len_mean        | 30       |\n",
      "|    ep_rew_mean        | 30       |\n",
      "| time/                 |          |\n",
      "|    fps                | 234      |\n",
      "|    iterations         | 100      |\n",
      "|    time_elapsed       | 2        |\n",
      "|    total_timesteps    | 500      |\n",
      "| train/                |          |\n",
      "|    entropy_loss       | -0.685   |\n",
      "|    explained_variance | -0.409   |\n",
      "|    learning_rate      | 0.0007   |\n",
      "|    n_updates          | 99       |\n",
      "|    policy_loss        | 2.03     |\n",
      "|    value_loss         | 12.9     |\n",
      "------------------------------------\n",
      "------------------------------------\n",
      "| rollout/              |          |\n",
      "|    ep_len_mean        | 35.8     |\n",
      "|    ep_rew_mean        | 35.8     |\n",
      "| time/                 |          |\n",
      "|    fps                | 332      |\n",
      "|    iterations         | 200      |\n",
      "|    time_elapsed       | 3        |\n",
      "|    total_timesteps    | 1000     |\n",
      "| train/                |          |\n",
      "|    entropy_loss       | -0.685   |\n",
      "|    explained_variance | 0.368    |\n",
      "|    learning_rate      | 0.0007   |\n",
      "|    n_updates          | 199      |\n",
      "|    policy_loss        | 1.11     |\n",
      "|    value_loss         | 3.67     |\n",
      "------------------------------------\n",
      "------------------------------------\n",
      "| rollout/              |          |\n",
      "|    ep_len_mean        | 42       |\n",
      "|    ep_rew_mean        | 42       |\n",
      "| time/                 |          |\n",
      "|    fps                | 392      |\n",
      "|    iterations         | 300      |\n",
      "|    time_elapsed       | 3        |\n",
      "|    total_timesteps    | 1500     |\n",
      "| train/                |          |\n",
      "|    entropy_loss       | -0.667   |\n",
      "|    explained_variance | 0.232    |\n",
      "|    learning_rate      | 0.0007   |\n",
      "|    n_updates          | 299      |\n",
      "|    policy_loss        | 1.22     |\n",
      "|    value_loss         | 4.06     |\n",
      "------------------------------------\n",
      "------------------------------------\n",
      "| rollout/              |          |\n",
      "|    ep_len_mean        | 41.4     |\n",
      "|    ep_rew_mean        | 41.4     |\n",
      "| time/                 |          |\n",
      "|    fps                | 427      |\n",
      "|    iterations         | 400      |\n",
      "|    time_elapsed       | 4        |\n",
      "|    total_timesteps    | 2000     |\n",
      "| train/                |          |\n",
      "|    entropy_loss       | -0.587   |\n",
      "|    explained_variance | 0.0695   |\n",
      "|    learning_rate      | 0.0007   |\n",
      "|    n_updates          | 399      |\n",
      "|    policy_loss        | 2        |\n",
      "|    value_loss         | 4.93     |\n",
      "------------------------------------\n",
      "------------------------------------\n",
      "| rollout/              |          |\n",
      "|    ep_len_mean        | 40.7     |\n",
      "|    ep_rew_mean        | 40.7     |\n",
      "| time/                 |          |\n",
      "|    fps                | 455      |\n",
      "|    iterations         | 500      |\n",
      "|    time_elapsed       | 5        |\n",
      "|    total_timesteps    | 2500     |\n",
      "| train/                |          |\n",
      "|    entropy_loss       | -0.644   |\n",
      "|    explained_variance | 0.0354   |\n",
      "|    learning_rate      | 0.0007   |\n",
      "|    n_updates          | 499      |\n",
      "|    policy_loss        | 0.865    |\n",
      "|    value_loss         | 4.99     |\n",
      "------------------------------------\n",
      "------------------------------------\n",
      "| rollout/              |          |\n",
      "|    ep_len_mean        | 40       |\n",
      "|    ep_rew_mean        | 40       |\n",
      "| time/                 |          |\n",
      "|    fps                | 476      |\n",
      "|    iterations         | 600      |\n",
      "|    time_elapsed       | 6        |\n",
      "|    total_timesteps    | 3000     |\n",
      "| train/                |          |\n",
      "|    entropy_loss       | -0.654   |\n",
      "|    explained_variance | -0.0142  |\n",
      "|    learning_rate      | 0.0007   |\n",
      "|    n_updates          | 599      |\n",
      "|    policy_loss        | 1.04     |\n",
      "|    value_loss         | 4.67     |\n",
      "------------------------------------\n",
      "------------------------------------\n",
      "| rollout/              |          |\n",
      "|    ep_len_mean        | 42.2     |\n",
      "|    ep_rew_mean        | 42.2     |\n",
      "| time/                 |          |\n",
      "|    fps                | 493      |\n",
      "|    iterations         | 700      |\n",
      "|    time_elapsed       | 7        |\n",
      "|    total_timesteps    | 3500     |\n",
      "| train/                |          |\n",
      "|    entropy_loss       | -0.558   |\n",
      "|    explained_variance | -0.0197  |\n",
      "|    learning_rate      | 0.0007   |\n",
      "|    n_updates          | 699      |\n",
      "|    policy_loss        | 1.35     |\n",
      "|    value_loss         | 4.16     |\n",
      "------------------------------------\n",
      "------------------------------------\n",
      "| rollout/              |          |\n",
      "|    ep_len_mean        | 43.2     |\n",
      "|    ep_rew_mean        | 43.2     |\n",
      "| time/                 |          |\n",
      "|    fps                | 502      |\n",
      "|    iterations         | 800      |\n",
      "|    time_elapsed       | 7        |\n",
      "|    total_timesteps    | 4000     |\n",
      "| train/                |          |\n",
      "|    entropy_loss       | -0.622   |\n",
      "|    explained_variance | 0.00845  |\n",
      "|    learning_rate      | 0.0007   |\n",
      "|    n_updates          | 799      |\n",
      "|    policy_loss        | 1.19     |\n",
      "|    value_loss         | 3.6      |\n",
      "------------------------------------\n",
      "------------------------------------\n",
      "| rollout/              |          |\n",
      "|    ep_len_mean        | 44.1     |\n",
      "|    ep_rew_mean        | 44.1     |\n",
      "| time/                 |          |\n",
      "|    fps                | 511      |\n",
      "|    iterations         | 900      |\n",
      "|    time_elapsed       | 8        |\n",
      "|    total_timesteps    | 4500     |\n",
      "| train/                |          |\n",
      "|    entropy_loss       | -0.511   |\n",
      "|    explained_variance | 0.00108  |\n",
      "|    learning_rate      | 0.0007   |\n",
      "|    n_updates          | 899      |\n",
      "|    policy_loss        | 1.08     |\n",
      "|    value_loss         | 3.2      |\n",
      "------------------------------------\n",
      "------------------------------------\n",
      "| rollout/              |          |\n",
      "|    ep_len_mean        | 46.3     |\n",
      "|    ep_rew_mean        | 46.3     |\n",
      "| time/                 |          |\n",
      "|    fps                | 523      |\n",
      "|    iterations         | 1000     |\n",
      "|    time_elapsed       | 9        |\n",
      "|    total_timesteps    | 5000     |\n",
      "| train/                |          |\n",
      "|    entropy_loss       | -0.583   |\n",
      "|    explained_variance | -0.00243 |\n",
      "|    learning_rate      | 0.0007   |\n",
      "|    n_updates          | 999      |\n",
      "|    policy_loss        | 0.941    |\n",
      "|    value_loss         | 2.81     |\n",
      "------------------------------------\n",
      "-------------------------------------\n",
      "| rollout/              |           |\n",
      "|    ep_len_mean        | 47.9      |\n",
      "|    ep_rew_mean        | 47.9      |\n",
      "| time/                 |           |\n",
      "|    fps                | 536       |\n",
      "|    iterations         | 1100      |\n",
      "|    time_elapsed       | 10        |\n",
      "|    total_timesteps    | 5500      |\n",
      "| train/                |           |\n",
      "|    entropy_loss       | -0.638    |\n",
      "|    explained_variance | -1.19e-07 |\n",
      "|    learning_rate      | 0.0007    |\n",
      "|    n_updates          | 1099      |\n",
      "|    policy_loss        | 0.782     |\n",
      "|    value_loss         | 2.39      |\n",
      "-------------------------------------\n",
      "------------------------------------\n",
      "| rollout/              |          |\n",
      "|    ep_len_mean        | 49.4     |\n",
      "|    ep_rew_mean        | 49.4     |\n",
      "| time/                 |          |\n",
      "|    fps                | 548      |\n",
      "|    iterations         | 1200     |\n",
      "|    time_elapsed       | 10       |\n",
      "|    total_timesteps    | 6000     |\n",
      "| train/                |          |\n",
      "|    entropy_loss       | -0.623   |\n",
      "|    explained_variance | 0        |\n",
      "|    learning_rate      | 0.0007   |\n",
      "|    n_updates          | 1199     |\n",
      "|    policy_loss        | 0.614    |\n",
      "|    value_loss         | 2.03     |\n",
      "------------------------------------\n",
      "------------------------------------\n",
      "| rollout/              |          |\n",
      "|    ep_len_mean        | 49.2     |\n",
      "|    ep_rew_mean        | 49.2     |\n",
      "| time/                 |          |\n",
      "|    fps                | 561      |\n",
      "|    iterations         | 1300     |\n",
      "|    time_elapsed       | 11       |\n",
      "|    total_timesteps    | 6500     |\n",
      "| train/                |          |\n",
      "|    entropy_loss       | -0.647   |\n",
      "|    explained_variance | 0        |\n",
      "|    learning_rate      | 0.0007   |\n",
      "|    n_updates          | 1299     |\n",
      "|    policy_loss        | 0.659    |\n",
      "|    value_loss         | 1.7      |\n",
      "------------------------------------\n",
      "------------------------------------\n",
      "| rollout/              |          |\n",
      "|    ep_len_mean        | 50.9     |\n",
      "|    ep_rew_mean        | 50.9     |\n",
      "| time/                 |          |\n",
      "|    fps                | 572      |\n",
      "|    iterations         | 1400     |\n",
      "|    time_elapsed       | 12       |\n",
      "|    total_timesteps    | 7000     |\n",
      "| train/                |          |\n",
      "|    entropy_loss       | -0.642   |\n",
      "|    explained_variance | 0        |\n",
      "|    learning_rate      | 0.0007   |\n",
      "|    n_updates          | 1399     |\n",
      "|    policy_loss        | 0.583    |\n",
      "|    value_loss         | 1.35     |\n",
      "------------------------------------\n",
      "------------------------------------\n",
      "| rollout/              |          |\n",
      "|    ep_len_mean        | 54.9     |\n",
      "|    ep_rew_mean        | 54.9     |\n",
      "| time/                 |          |\n",
      "|    fps                | 582      |\n",
      "|    iterations         | 1500     |\n",
      "|    time_elapsed       | 12       |\n",
      "|    total_timesteps    | 7500     |\n",
      "| train/                |          |\n",
      "|    entropy_loss       | -0.586   |\n",
      "|    explained_variance | 0        |\n",
      "|    learning_rate      | 0.0007   |\n",
      "|    n_updates          | 1499     |\n",
      "|    policy_loss        | 0.452    |\n",
      "|    value_loss         | 1.03     |\n",
      "------------------------------------\n",
      "------------------------------------\n",
      "| rollout/              |          |\n",
      "|    ep_len_mean        | 61.3     |\n",
      "|    ep_rew_mean        | 61.3     |\n",
      "| time/                 |          |\n",
      "|    fps                | 591      |\n",
      "|    iterations         | 1600     |\n",
      "|    time_elapsed       | 13       |\n",
      "|    total_timesteps    | 8000     |\n",
      "| train/                |          |\n",
      "|    entropy_loss       | -0.45    |\n",
      "|    explained_variance | 1.13e-05 |\n",
      "|    learning_rate      | 0.0007   |\n",
      "|    n_updates          | 1599     |\n",
      "|    policy_loss        | -30      |\n",
      "|    value_loss         | 3.06e+03 |\n",
      "------------------------------------\n",
      "------------------------------------\n",
      "| rollout/              |          |\n",
      "|    ep_len_mean        | 65.1     |\n",
      "|    ep_rew_mean        | 65.1     |\n",
      "| time/                 |          |\n",
      "|    fps                | 598      |\n",
      "|    iterations         | 1700     |\n",
      "|    time_elapsed       | 14       |\n",
      "|    total_timesteps    | 8500     |\n",
      "| train/                |          |\n",
      "|    entropy_loss       | -0.571   |\n",
      "|    explained_variance | 0        |\n",
      "|    learning_rate      | 0.0007   |\n",
      "|    n_updates          | 1699     |\n",
      "|    policy_loss        | 0.364    |\n",
      "|    value_loss         | 0.533    |\n",
      "------------------------------------\n",
      "------------------------------------\n",
      "| rollout/              |          |\n",
      "|    ep_len_mean        | 68.5     |\n",
      "|    ep_rew_mean        | 68.5     |\n",
      "| time/                 |          |\n",
      "|    fps                | 603      |\n",
      "|    iterations         | 1800     |\n",
      "|    time_elapsed       | 14       |\n",
      "|    total_timesteps    | 9000     |\n",
      "| train/                |          |\n",
      "|    entropy_loss       | -0.509   |\n",
      "|    explained_variance | 1.19e-07 |\n",
      "|    learning_rate      | 0.0007   |\n",
      "|    n_updates          | 1799     |\n",
      "|    policy_loss        | 0.45     |\n",
      "|    value_loss         | 0.345    |\n",
      "------------------------------------\n",
      "-------------------------------------\n",
      "| rollout/              |           |\n",
      "|    ep_len_mean        | 72.7      |\n",
      "|    ep_rew_mean        | 72.7      |\n",
      "| time/                 |           |\n",
      "|    fps                | 609       |\n",
      "|    iterations         | 1900      |\n",
      "|    time_elapsed       | 15        |\n",
      "|    total_timesteps    | 9500      |\n",
      "| train/                |           |\n",
      "|    entropy_loss       | -0.59     |\n",
      "|    explained_variance | -1.19e-07 |\n",
      "|    learning_rate      | 0.0007    |\n",
      "|    n_updates          | 1899      |\n",
      "|    policy_loss        | 0.19      |\n",
      "|    value_loss         | 0.198     |\n",
      "-------------------------------------\n",
      "------------------------------------\n",
      "| rollout/              |          |\n",
      "|    ep_len_mean        | 77.3     |\n",
      "|    ep_rew_mean        | 77.3     |\n",
      "| time/                 |          |\n",
      "|    fps                | 613      |\n",
      "|    iterations         | 2000     |\n",
      "|    time_elapsed       | 16       |\n",
      "|    total_timesteps    | 10000    |\n",
      "| train/                |          |\n",
      "|    entropy_loss       | -0.588   |\n",
      "|    explained_variance | 0        |\n",
      "|    learning_rate      | 0.0007   |\n",
      "|    n_updates          | 1999     |\n",
      "|    policy_loss        | 0.157    |\n",
      "|    value_loss         | 0.0933   |\n",
      "------------------------------------\n",
      "------------------------------------\n",
      "| rollout/              |          |\n",
      "|    ep_len_mean        | 80.1     |\n",
      "|    ep_rew_mean        | 80.1     |\n",
      "| time/                 |          |\n",
      "|    fps                | 618      |\n",
      "|    iterations         | 2100     |\n",
      "|    time_elapsed       | 16       |\n",
      "|    total_timesteps    | 10500    |\n",
      "| train/                |          |\n",
      "|    entropy_loss       | -0.57    |\n",
      "|    explained_variance | 0        |\n",
      "|    learning_rate      | 0.0007   |\n",
      "|    n_updates          | 2099     |\n",
      "|    policy_loss        | 0.0575   |\n",
      "|    value_loss         | 0.0264   |\n",
      "------------------------------------\n",
      "------------------------------------\n",
      "| rollout/              |          |\n",
      "|    ep_len_mean        | 85.4     |\n",
      "|    ep_rew_mean        | 85.4     |\n",
      "| time/                 |          |\n",
      "|    fps                | 620      |\n",
      "|    iterations         | 2200     |\n",
      "|    time_elapsed       | 17       |\n",
      "|    total_timesteps    | 11000    |\n",
      "| train/                |          |\n",
      "|    entropy_loss       | -0.629   |\n",
      "|    explained_variance | 0        |\n",
      "|    learning_rate      | 0.0007   |\n",
      "|    n_updates          | 2199     |\n",
      "|    policy_loss        | 0.0145   |\n",
      "|    value_loss         | 0.00107  |\n",
      "------------------------------------\n",
      "------------------------------------\n",
      "| rollout/              |          |\n",
      "|    ep_len_mean        | 89.3     |\n",
      "|    ep_rew_mean        | 89.3     |\n",
      "| time/                 |          |\n",
      "|    fps                | 625      |\n",
      "|    iterations         | 2300     |\n",
      "|    time_elapsed       | 18       |\n",
      "|    total_timesteps    | 11500    |\n",
      "| train/                |          |\n",
      "|    entropy_loss       | -0.582   |\n",
      "|    explained_variance | 9.12e-06 |\n",
      "|    learning_rate      | 0.0007   |\n",
      "|    n_updates          | 2299     |\n",
      "|    policy_loss        | 0.00186  |\n",
      "|    value_loss         | 1.29e-05 |\n",
      "------------------------------------\n",
      "------------------------------------\n",
      "| rollout/              |          |\n",
      "|    ep_len_mean        | 93.7     |\n",
      "|    ep_rew_mean        | 93.7     |\n",
      "| time/                 |          |\n",
      "|    fps                | 629      |\n",
      "|    iterations         | 2400     |\n",
      "|    time_elapsed       | 19       |\n",
      "|    total_timesteps    | 12000    |\n",
      "| train/                |          |\n",
      "|    entropy_loss       | -0.662   |\n",
      "|    explained_variance | 9.33e-05 |\n",
      "|    learning_rate      | 0.0007   |\n",
      "|    n_updates          | 2399     |\n",
      "|    policy_loss        | 0.000489 |\n",
      "|    value_loss         | 1.26e-06 |\n",
      "------------------------------------\n",
      "------------------------------------\n",
      "| rollout/              |          |\n",
      "|    ep_len_mean        | 97.4     |\n",
      "|    ep_rew_mean        | 97.4     |\n",
      "| time/                 |          |\n",
      "|    fps                | 632      |\n",
      "|    iterations         | 2500     |\n",
      "|    time_elapsed       | 19       |\n",
      "|    total_timesteps    | 12500    |\n",
      "| train/                |          |\n",
      "|    entropy_loss       | -0.618   |\n",
      "|    explained_variance | 0.000958 |\n",
      "|    learning_rate      | 0.0007   |\n",
      "|    n_updates          | 2499     |\n",
      "|    policy_loss        | 0.000121 |\n",
      "|    value_loss         | 1.23e-07 |\n",
      "------------------------------------\n",
      "------------------------------------\n",
      "| rollout/              |          |\n",
      "|    ep_len_mean        | 103      |\n",
      "|    ep_rew_mean        | 103      |\n",
      "| time/                 |          |\n",
      "|    fps                | 631      |\n",
      "|    iterations         | 2600     |\n",
      "|    time_elapsed       | 20       |\n",
      "|    total_timesteps    | 13000    |\n",
      "| train/                |          |\n",
      "|    entropy_loss       | -0.643   |\n",
      "|    explained_variance | 1.37e-06 |\n",
      "|    learning_rate      | 0.0007   |\n",
      "|    n_updates          | 2599     |\n",
      "|    policy_loss        | 0.0014   |\n",
      "|    value_loss         | 8.94e-06 |\n",
      "------------------------------------\n",
      "------------------------------------\n",
      "| rollout/              |          |\n",
      "|    ep_len_mean        | 107      |\n",
      "|    ep_rew_mean        | 107      |\n",
      "| time/                 |          |\n",
      "|    fps                | 631      |\n",
      "|    iterations         | 2700     |\n",
      "|    time_elapsed       | 21       |\n",
      "|    total_timesteps    | 13500    |\n",
      "| train/                |          |\n",
      "|    entropy_loss       | -0.439   |\n",
      "|    explained_variance | 2.38e-07 |\n",
      "|    learning_rate      | 0.0007   |\n",
      "|    n_updates          | 2699     |\n",
      "|    policy_loss        | 0.00391  |\n",
      "|    value_loss         | 6.6e-05  |\n",
      "------------------------------------\n",
      "------------------------------------\n",
      "| rollout/              |          |\n",
      "|    ep_len_mean        | 110      |\n",
      "|    ep_rew_mean        | 110      |\n",
      "| time/                 |          |\n",
      "|    fps                | 631      |\n",
      "|    iterations         | 2800     |\n",
      "|    time_elapsed       | 22       |\n",
      "|    total_timesteps    | 14000    |\n",
      "| train/                |          |\n",
      "|    entropy_loss       | -0.497   |\n",
      "|    explained_variance | 0.333    |\n",
      "|    learning_rate      | 0.0007   |\n",
      "|    n_updates          | 2799     |\n",
      "|    policy_loss        | 9.28e-06 |\n",
      "|    value_loss         | 6.4e-10  |\n",
      "------------------------------------\n",
      "------------------------------------\n",
      "| rollout/              |          |\n",
      "|    ep_len_mean        | 115      |\n",
      "|    ep_rew_mean        | 115      |\n",
      "| time/                 |          |\n",
      "|    fps                | 632      |\n",
      "|    iterations         | 2900     |\n",
      "|    time_elapsed       | 22       |\n",
      "|    total_timesteps    | 14500    |\n",
      "| train/                |          |\n",
      "|    entropy_loss       | -0.347   |\n",
      "|    explained_variance | 0        |\n",
      "|    learning_rate      | 0.0007   |\n",
      "|    n_updates          | 2899     |\n",
      "|    policy_loss        | 3.45e-05 |\n",
      "|    value_loss         | 1.02e-08 |\n",
      "------------------------------------\n",
      "-------------------------------------\n",
      "| rollout/              |           |\n",
      "|    ep_len_mean        | 118       |\n",
      "|    ep_rew_mean        | 118       |\n",
      "| time/                 |           |\n",
      "|    fps                | 634       |\n",
      "|    iterations         | 3000      |\n",
      "|    time_elapsed       | 23        |\n",
      "|    total_timesteps    | 15000     |\n",
      "| train/                |           |\n",
      "|    entropy_loss       | -0.589    |\n",
      "|    explained_variance | 0         |\n",
      "|    learning_rate      | 0.0007    |\n",
      "|    n_updates          | 2999      |\n",
      "|    policy_loss        | -1.02e-05 |\n",
      "|    value_loss         | 6.4e-10   |\n",
      "-------------------------------------\n",
      "------------------------------------\n",
      "| rollout/              |          |\n",
      "|    ep_len_mean        | 123      |\n",
      "|    ep_rew_mean        | 123      |\n",
      "| time/                 |          |\n",
      "|    fps                | 634      |\n",
      "|    iterations         | 3100     |\n",
      "|    time_elapsed       | 24       |\n",
      "|    total_timesteps    | 15500    |\n",
      "| train/                |          |\n",
      "|    entropy_loss       | -0.581   |\n",
      "|    explained_variance | 0        |\n",
      "|    learning_rate      | 0.0007   |\n",
      "|    n_updates          | 3099     |\n",
      "|    policy_loss        | 1.83e-05 |\n",
      "|    value_loss         | 2.56e-09 |\n",
      "------------------------------------\n",
      "------------------------------------\n",
      "| rollout/              |          |\n",
      "|    ep_len_mean        | 127      |\n",
      "|    ep_rew_mean        | 127      |\n",
      "| time/                 |          |\n",
      "|    fps                | 633      |\n",
      "|    iterations         | 3200     |\n",
      "|    time_elapsed       | 25       |\n",
      "|    total_timesteps    | 16000    |\n",
      "| train/                |          |\n",
      "|    entropy_loss       | -0.472   |\n",
      "|    explained_variance | 4.91e-05 |\n",
      "|    learning_rate      | 0.0007   |\n",
      "|    n_updates          | 3199     |\n",
      "|    policy_loss        | 0.000688 |\n",
      "|    value_loss         | 2.38e-06 |\n",
      "------------------------------------\n",
      "------------------------------------\n",
      "| rollout/              |          |\n",
      "|    ep_len_mean        | 129      |\n",
      "|    ep_rew_mean        | 129      |\n",
      "| time/                 |          |\n",
      "|    fps                | 633      |\n",
      "|    iterations         | 3300     |\n",
      "|    time_elapsed       | 26       |\n",
      "|    total_timesteps    | 16500    |\n",
      "| train/                |          |\n",
      "|    entropy_loss       | -0.584   |\n",
      "|    explained_variance | 1.13e-06 |\n",
      "|    learning_rate      | 0.0007   |\n",
      "|    n_updates          | 3299     |\n",
      "|    policy_loss        | 0.00148  |\n",
      "|    value_loss         | 1.13e-05 |\n",
      "------------------------------------\n",
      "------------------------------------\n",
      "| rollout/              |          |\n",
      "|    ep_len_mean        | 131      |\n",
      "|    ep_rew_mean        | 131      |\n",
      "| time/                 |          |\n",
      "|    fps                | 634      |\n",
      "|    iterations         | 3400     |\n",
      "|    time_elapsed       | 26       |\n",
      "|    total_timesteps    | 17000    |\n",
      "| train/                |          |\n",
      "|    entropy_loss       | -0.412   |\n",
      "|    explained_variance | 4.95e-06 |\n",
      "|    learning_rate      | 0.0007   |\n",
      "|    n_updates          | 3399     |\n",
      "|    policy_loss        | 0.00114  |\n",
      "|    value_loss         | 2.7e-06  |\n",
      "------------------------------------\n",
      "------------------------------------\n",
      "| rollout/              |          |\n",
      "|    ep_len_mean        | 134      |\n",
      "|    ep_rew_mean        | 134      |\n",
      "| time/                 |          |\n",
      "|    fps                | 635      |\n",
      "|    iterations         | 3500     |\n",
      "|    time_elapsed       | 27       |\n",
      "|    total_timesteps    | 17500    |\n",
      "| train/                |          |\n",
      "|    entropy_loss       | -0.569   |\n",
      "|    explained_variance | 0        |\n",
      "|    learning_rate      | 0.0007   |\n",
      "|    n_updates          | 3499     |\n",
      "|    policy_loss        | 3.51e-05 |\n",
      "|    value_loss         | 1.02e-08 |\n",
      "------------------------------------\n",
      "------------------------------------\n",
      "| rollout/              |          |\n",
      "|    ep_len_mean        | 139      |\n",
      "|    ep_rew_mean        | 139      |\n",
      "| time/                 |          |\n",
      "|    fps                | 635      |\n",
      "|    iterations         | 3600     |\n",
      "|    time_elapsed       | 28       |\n",
      "|    total_timesteps    | 18000    |\n",
      "| train/                |          |\n",
      "|    entropy_loss       | -0.521   |\n",
      "|    explained_variance | 0        |\n",
      "|    learning_rate      | 0.0007   |\n",
      "|    n_updates          | 3599     |\n",
      "|    policy_loss        | 4.17e-05 |\n",
      "|    value_loss         | 5.76e-09 |\n",
      "------------------------------------\n",
      "------------------------------------\n",
      "| rollout/              |          |\n",
      "|    ep_len_mean        | 144      |\n",
      "|    ep_rew_mean        | 144      |\n",
      "| time/                 |          |\n",
      "|    fps                | 634      |\n",
      "|    iterations         | 3700     |\n",
      "|    time_elapsed       | 29       |\n",
      "|    total_timesteps    | 18500    |\n",
      "| train/                |          |\n",
      "|    entropy_loss       | -0.603   |\n",
      "|    explained_variance | 5.26e-05 |\n",
      "|    learning_rate      | 0.0007   |\n",
      "|    n_updates          | 3699     |\n",
      "|    policy_loss        | 0.000697 |\n",
      "|    value_loss         | 2.23e-06 |\n",
      "------------------------------------\n",
      "------------------------------------\n",
      "| rollout/              |          |\n",
      "|    ep_len_mean        | 148      |\n",
      "|    ep_rew_mean        | 148      |\n",
      "| time/                 |          |\n",
      "|    fps                | 634      |\n",
      "|    iterations         | 3800     |\n",
      "|    time_elapsed       | 29       |\n",
      "|    total_timesteps    | 19000    |\n",
      "| train/                |          |\n",
      "|    entropy_loss       | -0.635   |\n",
      "|    explained_variance | 4.15e-05 |\n",
      "|    learning_rate      | 0.0007   |\n",
      "|    n_updates          | 3799     |\n",
      "|    policy_loss        | 0.000408 |\n",
      "|    value_loss         | 1.26e-06 |\n",
      "------------------------------------\n",
      "------------------------------------\n",
      "| rollout/              |          |\n",
      "|    ep_len_mean        | 150      |\n",
      "|    ep_rew_mean        | 150      |\n",
      "| time/                 |          |\n",
      "|    fps                | 635      |\n",
      "|    iterations         | 3900     |\n",
      "|    time_elapsed       | 30       |\n",
      "|    total_timesteps    | 19500    |\n",
      "| train/                |          |\n",
      "|    entropy_loss       | -0.615   |\n",
      "|    explained_variance | 0.000432 |\n",
      "|    learning_rate      | 0.0007   |\n",
      "|    n_updates          | 3899     |\n",
      "|    policy_loss        | 7.48e-05 |\n",
      "|    value_loss         | 3.06e-08 |\n",
      "------------------------------------\n",
      "------------------------------------\n",
      "| rollout/              |          |\n",
      "|    ep_len_mean        | 155      |\n",
      "|    ep_rew_mean        | 155      |\n",
      "| time/                 |          |\n",
      "|    fps                | 635      |\n",
      "|    iterations         | 4000     |\n",
      "|    time_elapsed       | 31       |\n",
      "|    total_timesteps    | 20000    |\n",
      "| train/                |          |\n",
      "|    entropy_loss       | -0.485   |\n",
      "|    explained_variance | 0        |\n",
      "|    learning_rate      | 0.0007   |\n",
      "|    n_updates          | 3999     |\n",
      "|    policy_loss        | 0.00287  |\n",
      "|    value_loss         | 0.000188 |\n",
      "------------------------------------\n"
     ]
    }
   ],
   "source": [
    "model = A2C(\"MlpPolicy\" , cartpole, seed = 8, verbose=1).learn(training_steps)"
   ]
  },
  {
   "cell_type": "code",
   "execution_count": 6,
   "metadata": {},
   "outputs": [
    {
     "name": "stdout",
     "output_type": "stream",
     "text": [
      "mean_reward:166.06 +/- 19.20\n"
     ]
    }
   ],
   "source": [
    "mean_reward, std_reward = evaluate_policy(model, eval_envs_cartpole, n_eval_episodes=50, deterministic=True)\n",
    "\n",
    "print(f\"mean_reward:{mean_reward:.2f} +/- {std_reward:.2f}\")"
   ]
  },
  {
   "cell_type": "code",
   "execution_count": 7,
   "metadata": {},
   "outputs": [],
   "source": [
    "import torch.nn as nn"
   ]
  },
  {
   "cell_type": "code",
   "execution_count": 8,
   "metadata": {},
   "outputs": [
    {
     "name": "stdout",
     "output_type": "stream",
     "text": [
      "Using cuda device\n",
      "Creating environment from the given name 'CartPole-v1'\n",
      "Wrapping the env with a `Monitor` wrapper\n",
      "Wrapping the env in a DummyVecEnv.\n",
      "------------------------------------\n",
      "| rollout/              |          |\n",
      "|    ep_len_mean        | 30       |\n",
      "|    ep_rew_mean        | 30       |\n",
      "| time/                 |          |\n",
      "|    fps                | 539      |\n",
      "|    iterations         | 100      |\n",
      "|    time_elapsed       | 0        |\n",
      "|    total_timesteps    | 500      |\n",
      "| train/                |          |\n",
      "|    entropy_loss       | -0.685   |\n",
      "|    explained_variance | -0.409   |\n",
      "|    learning_rate      | 0.0007   |\n",
      "|    n_updates          | 99       |\n",
      "|    policy_loss        | 2.03     |\n",
      "|    value_loss         | 12.9     |\n",
      "------------------------------------\n",
      "------------------------------------\n",
      "| rollout/              |          |\n",
      "|    ep_len_mean        | 35.8     |\n",
      "|    ep_rew_mean        | 35.8     |\n",
      "| time/                 |          |\n",
      "|    fps                | 576      |\n",
      "|    iterations         | 200      |\n",
      "|    time_elapsed       | 1        |\n",
      "|    total_timesteps    | 1000     |\n",
      "| train/                |          |\n",
      "|    entropy_loss       | -0.685   |\n",
      "|    explained_variance | 0.368    |\n",
      "|    learning_rate      | 0.0007   |\n",
      "|    n_updates          | 199      |\n",
      "|    policy_loss        | 1.11     |\n",
      "|    value_loss         | 3.67     |\n",
      "------------------------------------\n",
      "------------------------------------\n",
      "| rollout/              |          |\n",
      "|    ep_len_mean        | 42       |\n",
      "|    ep_rew_mean        | 42       |\n",
      "| time/                 |          |\n",
      "|    fps                | 595      |\n",
      "|    iterations         | 300      |\n",
      "|    time_elapsed       | 2        |\n",
      "|    total_timesteps    | 1500     |\n",
      "| train/                |          |\n",
      "|    entropy_loss       | -0.667   |\n",
      "|    explained_variance | 0.232    |\n",
      "|    learning_rate      | 0.0007   |\n",
      "|    n_updates          | 299      |\n",
      "|    policy_loss        | 1.22     |\n",
      "|    value_loss         | 4.06     |\n",
      "------------------------------------\n",
      "------------------------------------\n",
      "| rollout/              |          |\n",
      "|    ep_len_mean        | 41.4     |\n",
      "|    ep_rew_mean        | 41.4     |\n",
      "| time/                 |          |\n",
      "|    fps                | 604      |\n",
      "|    iterations         | 400      |\n",
      "|    time_elapsed       | 3        |\n",
      "|    total_timesteps    | 2000     |\n",
      "| train/                |          |\n",
      "|    entropy_loss       | -0.587   |\n",
      "|    explained_variance | 0.0695   |\n",
      "|    learning_rate      | 0.0007   |\n",
      "|    n_updates          | 399      |\n",
      "|    policy_loss        | 2        |\n",
      "|    value_loss         | 4.93     |\n",
      "------------------------------------\n",
      "------------------------------------\n",
      "| rollout/              |          |\n",
      "|    ep_len_mean        | 40.7     |\n",
      "|    ep_rew_mean        | 40.7     |\n",
      "| time/                 |          |\n",
      "|    fps                | 606      |\n",
      "|    iterations         | 500      |\n",
      "|    time_elapsed       | 4        |\n",
      "|    total_timesteps    | 2500     |\n",
      "| train/                |          |\n",
      "|    entropy_loss       | -0.644   |\n",
      "|    explained_variance | 0.0354   |\n",
      "|    learning_rate      | 0.0007   |\n",
      "|    n_updates          | 499      |\n",
      "|    policy_loss        | 0.865    |\n",
      "|    value_loss         | 4.99     |\n",
      "------------------------------------\n",
      "------------------------------------\n",
      "| rollout/              |          |\n",
      "|    ep_len_mean        | 40       |\n",
      "|    ep_rew_mean        | 40       |\n",
      "| time/                 |          |\n",
      "|    fps                | 595      |\n",
      "|    iterations         | 600      |\n",
      "|    time_elapsed       | 5        |\n",
      "|    total_timesteps    | 3000     |\n",
      "| train/                |          |\n",
      "|    entropy_loss       | -0.654   |\n",
      "|    explained_variance | -0.0142  |\n",
      "|    learning_rate      | 0.0007   |\n",
      "|    n_updates          | 599      |\n",
      "|    policy_loss        | 1.04     |\n",
      "|    value_loss         | 4.67     |\n",
      "------------------------------------\n",
      "------------------------------------\n",
      "| rollout/              |          |\n",
      "|    ep_len_mean        | 42.2     |\n",
      "|    ep_rew_mean        | 42.2     |\n",
      "| time/                 |          |\n",
      "|    fps                | 596      |\n",
      "|    iterations         | 700      |\n",
      "|    time_elapsed       | 5        |\n",
      "|    total_timesteps    | 3500     |\n",
      "| train/                |          |\n",
      "|    entropy_loss       | -0.558   |\n",
      "|    explained_variance | -0.0197  |\n",
      "|    learning_rate      | 0.0007   |\n",
      "|    n_updates          | 699      |\n",
      "|    policy_loss        | 1.35     |\n",
      "|    value_loss         | 4.16     |\n",
      "------------------------------------\n",
      "------------------------------------\n",
      "| rollout/              |          |\n",
      "|    ep_len_mean        | 43.2     |\n",
      "|    ep_rew_mean        | 43.2     |\n",
      "| time/                 |          |\n",
      "|    fps                | 598      |\n",
      "|    iterations         | 800      |\n",
      "|    time_elapsed       | 6        |\n",
      "|    total_timesteps    | 4000     |\n",
      "| train/                |          |\n",
      "|    entropy_loss       | -0.622   |\n",
      "|    explained_variance | 0.00845  |\n",
      "|    learning_rate      | 0.0007   |\n",
      "|    n_updates          | 799      |\n",
      "|    policy_loss        | 1.19     |\n",
      "|    value_loss         | 3.6      |\n",
      "------------------------------------\n",
      "------------------------------------\n",
      "| rollout/              |          |\n",
      "|    ep_len_mean        | 44.1     |\n",
      "|    ep_rew_mean        | 44.1     |\n",
      "| time/                 |          |\n",
      "|    fps                | 601      |\n",
      "|    iterations         | 900      |\n",
      "|    time_elapsed       | 7        |\n",
      "|    total_timesteps    | 4500     |\n",
      "| train/                |          |\n",
      "|    entropy_loss       | -0.511   |\n",
      "|    explained_variance | 0.00108  |\n",
      "|    learning_rate      | 0.0007   |\n",
      "|    n_updates          | 899      |\n",
      "|    policy_loss        | 1.08     |\n",
      "|    value_loss         | 3.2      |\n",
      "------------------------------------\n",
      "------------------------------------\n",
      "| rollout/              |          |\n",
      "|    ep_len_mean        | 46.3     |\n",
      "|    ep_rew_mean        | 46.3     |\n",
      "| time/                 |          |\n",
      "|    fps                | 600      |\n",
      "|    iterations         | 1000     |\n",
      "|    time_elapsed       | 8        |\n",
      "|    total_timesteps    | 5000     |\n",
      "| train/                |          |\n",
      "|    entropy_loss       | -0.583   |\n",
      "|    explained_variance | -0.00243 |\n",
      "|    learning_rate      | 0.0007   |\n",
      "|    n_updates          | 999      |\n",
      "|    policy_loss        | 0.941    |\n",
      "|    value_loss         | 2.81     |\n",
      "------------------------------------\n",
      "-------------------------------------\n",
      "| rollout/              |           |\n",
      "|    ep_len_mean        | 47.9      |\n",
      "|    ep_rew_mean        | 47.9      |\n",
      "| time/                 |           |\n",
      "|    fps                | 603       |\n",
      "|    iterations         | 1100      |\n",
      "|    time_elapsed       | 9         |\n",
      "|    total_timesteps    | 5500      |\n",
      "| train/                |           |\n",
      "|    entropy_loss       | -0.638    |\n",
      "|    explained_variance | -1.19e-07 |\n",
      "|    learning_rate      | 0.0007    |\n",
      "|    n_updates          | 1099      |\n",
      "|    policy_loss        | 0.782     |\n",
      "|    value_loss         | 2.39      |\n",
      "-------------------------------------\n",
      "------------------------------------\n",
      "| rollout/              |          |\n",
      "|    ep_len_mean        | 49.4     |\n",
      "|    ep_rew_mean        | 49.4     |\n",
      "| time/                 |          |\n",
      "|    fps                | 605      |\n",
      "|    iterations         | 1200     |\n",
      "|    time_elapsed       | 9        |\n",
      "|    total_timesteps    | 6000     |\n",
      "| train/                |          |\n",
      "|    entropy_loss       | -0.623   |\n",
      "|    explained_variance | 0        |\n",
      "|    learning_rate      | 0.0007   |\n",
      "|    n_updates          | 1199     |\n",
      "|    policy_loss        | 0.614    |\n",
      "|    value_loss         | 2.03     |\n",
      "------------------------------------\n",
      "------------------------------------\n",
      "| rollout/              |          |\n",
      "|    ep_len_mean        | 49.2     |\n",
      "|    ep_rew_mean        | 49.2     |\n",
      "| time/                 |          |\n",
      "|    fps                | 607      |\n",
      "|    iterations         | 1300     |\n",
      "|    time_elapsed       | 10       |\n",
      "|    total_timesteps    | 6500     |\n",
      "| train/                |          |\n",
      "|    entropy_loss       | -0.647   |\n",
      "|    explained_variance | 0        |\n",
      "|    learning_rate      | 0.0007   |\n",
      "|    n_updates          | 1299     |\n",
      "|    policy_loss        | 0.659    |\n",
      "|    value_loss         | 1.7      |\n",
      "------------------------------------\n",
      "------------------------------------\n",
      "| rollout/              |          |\n",
      "|    ep_len_mean        | 50.9     |\n",
      "|    ep_rew_mean        | 50.9     |\n",
      "| time/                 |          |\n",
      "|    fps                | 608      |\n",
      "|    iterations         | 1400     |\n",
      "|    time_elapsed       | 11       |\n",
      "|    total_timesteps    | 7000     |\n",
      "| train/                |          |\n",
      "|    entropy_loss       | -0.642   |\n",
      "|    explained_variance | 0        |\n",
      "|    learning_rate      | 0.0007   |\n",
      "|    n_updates          | 1399     |\n",
      "|    policy_loss        | 0.583    |\n",
      "|    value_loss         | 1.35     |\n",
      "------------------------------------\n",
      "------------------------------------\n",
      "| rollout/              |          |\n",
      "|    ep_len_mean        | 54.9     |\n",
      "|    ep_rew_mean        | 54.9     |\n",
      "| time/                 |          |\n",
      "|    fps                | 609      |\n",
      "|    iterations         | 1500     |\n",
      "|    time_elapsed       | 12       |\n",
      "|    total_timesteps    | 7500     |\n",
      "| train/                |          |\n",
      "|    entropy_loss       | -0.586   |\n",
      "|    explained_variance | 0        |\n",
      "|    learning_rate      | 0.0007   |\n",
      "|    n_updates          | 1499     |\n",
      "|    policy_loss        | 0.452    |\n",
      "|    value_loss         | 1.03     |\n",
      "------------------------------------\n",
      "------------------------------------\n",
      "| rollout/              |          |\n",
      "|    ep_len_mean        | 61.3     |\n",
      "|    ep_rew_mean        | 61.3     |\n",
      "| time/                 |          |\n",
      "|    fps                | 609      |\n",
      "|    iterations         | 1600     |\n",
      "|    time_elapsed       | 13       |\n",
      "|    total_timesteps    | 8000     |\n",
      "| train/                |          |\n",
      "|    entropy_loss       | -0.45    |\n",
      "|    explained_variance | 1.13e-05 |\n",
      "|    learning_rate      | 0.0007   |\n",
      "|    n_updates          | 1599     |\n",
      "|    policy_loss        | -30      |\n",
      "|    value_loss         | 3.06e+03 |\n",
      "------------------------------------\n",
      "------------------------------------\n",
      "| rollout/              |          |\n",
      "|    ep_len_mean        | 65.1     |\n",
      "|    ep_rew_mean        | 65.1     |\n",
      "| time/                 |          |\n",
      "|    fps                | 609      |\n",
      "|    iterations         | 1700     |\n",
      "|    time_elapsed       | 13       |\n",
      "|    total_timesteps    | 8500     |\n",
      "| train/                |          |\n",
      "|    entropy_loss       | -0.571   |\n",
      "|    explained_variance | 0        |\n",
      "|    learning_rate      | 0.0007   |\n",
      "|    n_updates          | 1699     |\n",
      "|    policy_loss        | 0.364    |\n",
      "|    value_loss         | 0.533    |\n",
      "------------------------------------\n",
      "------------------------------------\n",
      "| rollout/              |          |\n",
      "|    ep_len_mean        | 68.5     |\n",
      "|    ep_rew_mean        | 68.5     |\n",
      "| time/                 |          |\n",
      "|    fps                | 609      |\n",
      "|    iterations         | 1800     |\n",
      "|    time_elapsed       | 14       |\n",
      "|    total_timesteps    | 9000     |\n",
      "| train/                |          |\n",
      "|    entropy_loss       | -0.509   |\n",
      "|    explained_variance | 1.19e-07 |\n",
      "|    learning_rate      | 0.0007   |\n",
      "|    n_updates          | 1799     |\n",
      "|    policy_loss        | 0.45     |\n",
      "|    value_loss         | 0.345    |\n",
      "------------------------------------\n",
      "-------------------------------------\n",
      "| rollout/              |           |\n",
      "|    ep_len_mean        | 72.7      |\n",
      "|    ep_rew_mean        | 72.7      |\n",
      "| time/                 |           |\n",
      "|    fps                | 610       |\n",
      "|    iterations         | 1900      |\n",
      "|    time_elapsed       | 15        |\n",
      "|    total_timesteps    | 9500      |\n",
      "| train/                |           |\n",
      "|    entropy_loss       | -0.59     |\n",
      "|    explained_variance | -1.19e-07 |\n",
      "|    learning_rate      | 0.0007    |\n",
      "|    n_updates          | 1899      |\n",
      "|    policy_loss        | 0.19      |\n",
      "|    value_loss         | 0.198     |\n",
      "-------------------------------------\n",
      "------------------------------------\n",
      "| rollout/              |          |\n",
      "|    ep_len_mean        | 77.3     |\n",
      "|    ep_rew_mean        | 77.3     |\n",
      "| time/                 |          |\n",
      "|    fps                | 610      |\n",
      "|    iterations         | 2000     |\n",
      "|    time_elapsed       | 16       |\n",
      "|    total_timesteps    | 10000    |\n",
      "| train/                |          |\n",
      "|    entropy_loss       | -0.588   |\n",
      "|    explained_variance | 0        |\n",
      "|    learning_rate      | 0.0007   |\n",
      "|    n_updates          | 1999     |\n",
      "|    policy_loss        | 0.157    |\n",
      "|    value_loss         | 0.0933   |\n",
      "------------------------------------\n",
      "------------------------------------\n",
      "| rollout/              |          |\n",
      "|    ep_len_mean        | 80.1     |\n",
      "|    ep_rew_mean        | 80.1     |\n",
      "| time/                 |          |\n",
      "|    fps                | 615      |\n",
      "|    iterations         | 2100     |\n",
      "|    time_elapsed       | 17       |\n",
      "|    total_timesteps    | 10500    |\n",
      "| train/                |          |\n",
      "|    entropy_loss       | -0.57    |\n",
      "|    explained_variance | 0        |\n",
      "|    learning_rate      | 0.0007   |\n",
      "|    n_updates          | 2099     |\n",
      "|    policy_loss        | 0.0575   |\n",
      "|    value_loss         | 0.0264   |\n",
      "------------------------------------\n",
      "------------------------------------\n",
      "| rollout/              |          |\n",
      "|    ep_len_mean        | 85.4     |\n",
      "|    ep_rew_mean        | 85.4     |\n",
      "| time/                 |          |\n",
      "|    fps                | 620      |\n",
      "|    iterations         | 2200     |\n",
      "|    time_elapsed       | 17       |\n",
      "|    total_timesteps    | 11000    |\n",
      "| train/                |          |\n",
      "|    entropy_loss       | -0.629   |\n",
      "|    explained_variance | 0        |\n",
      "|    learning_rate      | 0.0007   |\n",
      "|    n_updates          | 2199     |\n",
      "|    policy_loss        | 0.0145   |\n",
      "|    value_loss         | 0.00107  |\n",
      "------------------------------------\n",
      "------------------------------------\n",
      "| rollout/              |          |\n",
      "|    ep_len_mean        | 89.3     |\n",
      "|    ep_rew_mean        | 89.3     |\n",
      "| time/                 |          |\n",
      "|    fps                | 625      |\n",
      "|    iterations         | 2300     |\n",
      "|    time_elapsed       | 18       |\n",
      "|    total_timesteps    | 11500    |\n",
      "| train/                |          |\n",
      "|    entropy_loss       | -0.582   |\n",
      "|    explained_variance | 9.12e-06 |\n",
      "|    learning_rate      | 0.0007   |\n",
      "|    n_updates          | 2299     |\n",
      "|    policy_loss        | 0.00186  |\n",
      "|    value_loss         | 1.29e-05 |\n",
      "------------------------------------\n",
      "------------------------------------\n",
      "| rollout/              |          |\n",
      "|    ep_len_mean        | 93.7     |\n",
      "|    ep_rew_mean        | 93.7     |\n",
      "| time/                 |          |\n",
      "|    fps                | 628      |\n",
      "|    iterations         | 2400     |\n",
      "|    time_elapsed       | 19       |\n",
      "|    total_timesteps    | 12000    |\n",
      "| train/                |          |\n",
      "|    entropy_loss       | -0.662   |\n",
      "|    explained_variance | 9.33e-05 |\n",
      "|    learning_rate      | 0.0007   |\n",
      "|    n_updates          | 2399     |\n",
      "|    policy_loss        | 0.000489 |\n",
      "|    value_loss         | 1.26e-06 |\n",
      "------------------------------------\n",
      "------------------------------------\n",
      "| rollout/              |          |\n",
      "|    ep_len_mean        | 97.4     |\n",
      "|    ep_rew_mean        | 97.4     |\n",
      "| time/                 |          |\n",
      "|    fps                | 632      |\n",
      "|    iterations         | 2500     |\n",
      "|    time_elapsed       | 19       |\n",
      "|    total_timesteps    | 12500    |\n",
      "| train/                |          |\n",
      "|    entropy_loss       | -0.618   |\n",
      "|    explained_variance | 0.000958 |\n",
      "|    learning_rate      | 0.0007   |\n",
      "|    n_updates          | 2499     |\n",
      "|    policy_loss        | 0.000121 |\n",
      "|    value_loss         | 1.23e-07 |\n",
      "------------------------------------\n",
      "------------------------------------\n",
      "| rollout/              |          |\n",
      "|    ep_len_mean        | 103      |\n",
      "|    ep_rew_mean        | 103      |\n",
      "| time/                 |          |\n",
      "|    fps                | 636      |\n",
      "|    iterations         | 2600     |\n",
      "|    time_elapsed       | 20       |\n",
      "|    total_timesteps    | 13000    |\n",
      "| train/                |          |\n",
      "|    entropy_loss       | -0.643   |\n",
      "|    explained_variance | 1.37e-06 |\n",
      "|    learning_rate      | 0.0007   |\n",
      "|    n_updates          | 2599     |\n",
      "|    policy_loss        | 0.0014   |\n",
      "|    value_loss         | 8.94e-06 |\n",
      "------------------------------------\n",
      "------------------------------------\n",
      "| rollout/              |          |\n",
      "|    ep_len_mean        | 107      |\n",
      "|    ep_rew_mean        | 107      |\n",
      "| time/                 |          |\n",
      "|    fps                | 640      |\n",
      "|    iterations         | 2700     |\n",
      "|    time_elapsed       | 21       |\n",
      "|    total_timesteps    | 13500    |\n",
      "| train/                |          |\n",
      "|    entropy_loss       | -0.439   |\n",
      "|    explained_variance | 2.38e-07 |\n",
      "|    learning_rate      | 0.0007   |\n",
      "|    n_updates          | 2699     |\n",
      "|    policy_loss        | 0.00391  |\n",
      "|    value_loss         | 6.6e-05  |\n",
      "------------------------------------\n",
      "------------------------------------\n",
      "| rollout/              |          |\n",
      "|    ep_len_mean        | 110      |\n",
      "|    ep_rew_mean        | 110      |\n",
      "| time/                 |          |\n",
      "|    fps                | 643      |\n",
      "|    iterations         | 2800     |\n",
      "|    time_elapsed       | 21       |\n",
      "|    total_timesteps    | 14000    |\n",
      "| train/                |          |\n",
      "|    entropy_loss       | -0.497   |\n",
      "|    explained_variance | 0.333    |\n",
      "|    learning_rate      | 0.0007   |\n",
      "|    n_updates          | 2799     |\n",
      "|    policy_loss        | 9.28e-06 |\n",
      "|    value_loss         | 6.4e-10  |\n",
      "------------------------------------\n",
      "------------------------------------\n",
      "| rollout/              |          |\n",
      "|    ep_len_mean        | 115      |\n",
      "|    ep_rew_mean        | 115      |\n",
      "| time/                 |          |\n",
      "|    fps                | 645      |\n",
      "|    iterations         | 2900     |\n",
      "|    time_elapsed       | 22       |\n",
      "|    total_timesteps    | 14500    |\n",
      "| train/                |          |\n",
      "|    entropy_loss       | -0.347   |\n",
      "|    explained_variance | 0        |\n",
      "|    learning_rate      | 0.0007   |\n",
      "|    n_updates          | 2899     |\n",
      "|    policy_loss        | 3.45e-05 |\n",
      "|    value_loss         | 1.02e-08 |\n",
      "------------------------------------\n",
      "-------------------------------------\n",
      "| rollout/              |           |\n",
      "|    ep_len_mean        | 118       |\n",
      "|    ep_rew_mean        | 118       |\n",
      "| time/                 |           |\n",
      "|    fps                | 648       |\n",
      "|    iterations         | 3000      |\n",
      "|    time_elapsed       | 23        |\n",
      "|    total_timesteps    | 15000     |\n",
      "| train/                |           |\n",
      "|    entropy_loss       | -0.589    |\n",
      "|    explained_variance | 0         |\n",
      "|    learning_rate      | 0.0007    |\n",
      "|    n_updates          | 2999      |\n",
      "|    policy_loss        | -1.02e-05 |\n",
      "|    value_loss         | 6.4e-10   |\n",
      "-------------------------------------\n",
      "------------------------------------\n",
      "| rollout/              |          |\n",
      "|    ep_len_mean        | 123      |\n",
      "|    ep_rew_mean        | 123      |\n",
      "| time/                 |          |\n",
      "|    fps                | 651      |\n",
      "|    iterations         | 3100     |\n",
      "|    time_elapsed       | 23       |\n",
      "|    total_timesteps    | 15500    |\n",
      "| train/                |          |\n",
      "|    entropy_loss       | -0.581   |\n",
      "|    explained_variance | 0        |\n",
      "|    learning_rate      | 0.0007   |\n",
      "|    n_updates          | 3099     |\n",
      "|    policy_loss        | 1.83e-05 |\n",
      "|    value_loss         | 2.56e-09 |\n",
      "------------------------------------\n",
      "------------------------------------\n",
      "| rollout/              |          |\n",
      "|    ep_len_mean        | 127      |\n",
      "|    ep_rew_mean        | 127      |\n",
      "| time/                 |          |\n",
      "|    fps                | 652      |\n",
      "|    iterations         | 3200     |\n",
      "|    time_elapsed       | 24       |\n",
      "|    total_timesteps    | 16000    |\n",
      "| train/                |          |\n",
      "|    entropy_loss       | -0.472   |\n",
      "|    explained_variance | 4.91e-05 |\n",
      "|    learning_rate      | 0.0007   |\n",
      "|    n_updates          | 3199     |\n",
      "|    policy_loss        | 0.000688 |\n",
      "|    value_loss         | 2.38e-06 |\n",
      "------------------------------------\n",
      "------------------------------------\n",
      "| rollout/              |          |\n",
      "|    ep_len_mean        | 129      |\n",
      "|    ep_rew_mean        | 129      |\n",
      "| time/                 |          |\n",
      "|    fps                | 654      |\n",
      "|    iterations         | 3300     |\n",
      "|    time_elapsed       | 25       |\n",
      "|    total_timesteps    | 16500    |\n",
      "| train/                |          |\n",
      "|    entropy_loss       | -0.584   |\n",
      "|    explained_variance | 1.13e-06 |\n",
      "|    learning_rate      | 0.0007   |\n",
      "|    n_updates          | 3299     |\n",
      "|    policy_loss        | 0.00148  |\n",
      "|    value_loss         | 1.13e-05 |\n",
      "------------------------------------\n",
      "------------------------------------\n",
      "| rollout/              |          |\n",
      "|    ep_len_mean        | 131      |\n",
      "|    ep_rew_mean        | 131      |\n",
      "| time/                 |          |\n",
      "|    fps                | 653      |\n",
      "|    iterations         | 3400     |\n",
      "|    time_elapsed       | 26       |\n",
      "|    total_timesteps    | 17000    |\n",
      "| train/                |          |\n",
      "|    entropy_loss       | -0.412   |\n",
      "|    explained_variance | 4.95e-06 |\n",
      "|    learning_rate      | 0.0007   |\n",
      "|    n_updates          | 3399     |\n",
      "|    policy_loss        | 0.00114  |\n",
      "|    value_loss         | 2.7e-06  |\n",
      "------------------------------------\n",
      "------------------------------------\n",
      "| rollout/              |          |\n",
      "|    ep_len_mean        | 134      |\n",
      "|    ep_rew_mean        | 134      |\n",
      "| time/                 |          |\n",
      "|    fps                | 652      |\n",
      "|    iterations         | 3500     |\n",
      "|    time_elapsed       | 26       |\n",
      "|    total_timesteps    | 17500    |\n",
      "| train/                |          |\n",
      "|    entropy_loss       | -0.569   |\n",
      "|    explained_variance | 0        |\n",
      "|    learning_rate      | 0.0007   |\n",
      "|    n_updates          | 3499     |\n",
      "|    policy_loss        | 3.51e-05 |\n",
      "|    value_loss         | 1.02e-08 |\n",
      "------------------------------------\n",
      "------------------------------------\n",
      "| rollout/              |          |\n",
      "|    ep_len_mean        | 139      |\n",
      "|    ep_rew_mean        | 139      |\n",
      "| time/                 |          |\n",
      "|    fps                | 652      |\n",
      "|    iterations         | 3600     |\n",
      "|    time_elapsed       | 27       |\n",
      "|    total_timesteps    | 18000    |\n",
      "| train/                |          |\n",
      "|    entropy_loss       | -0.521   |\n",
      "|    explained_variance | 0        |\n",
      "|    learning_rate      | 0.0007   |\n",
      "|    n_updates          | 3599     |\n",
      "|    policy_loss        | 4.17e-05 |\n",
      "|    value_loss         | 5.76e-09 |\n",
      "------------------------------------\n",
      "------------------------------------\n",
      "| rollout/              |          |\n",
      "|    ep_len_mean        | 144      |\n",
      "|    ep_rew_mean        | 144      |\n",
      "| time/                 |          |\n",
      "|    fps                | 652      |\n",
      "|    iterations         | 3700     |\n",
      "|    time_elapsed       | 28       |\n",
      "|    total_timesteps    | 18500    |\n",
      "| train/                |          |\n",
      "|    entropy_loss       | -0.603   |\n",
      "|    explained_variance | 5.26e-05 |\n",
      "|    learning_rate      | 0.0007   |\n",
      "|    n_updates          | 3699     |\n",
      "|    policy_loss        | 0.000697 |\n",
      "|    value_loss         | 2.23e-06 |\n",
      "------------------------------------\n",
      "------------------------------------\n",
      "| rollout/              |          |\n",
      "|    ep_len_mean        | 148      |\n",
      "|    ep_rew_mean        | 148      |\n",
      "| time/                 |          |\n",
      "|    fps                | 651      |\n",
      "|    iterations         | 3800     |\n",
      "|    time_elapsed       | 29       |\n",
      "|    total_timesteps    | 19000    |\n",
      "| train/                |          |\n",
      "|    entropy_loss       | -0.635   |\n",
      "|    explained_variance | 4.15e-05 |\n",
      "|    learning_rate      | 0.0007   |\n",
      "|    n_updates          | 3799     |\n",
      "|    policy_loss        | 0.000408 |\n",
      "|    value_loss         | 1.26e-06 |\n",
      "------------------------------------\n",
      "------------------------------------\n",
      "| rollout/              |          |\n",
      "|    ep_len_mean        | 150      |\n",
      "|    ep_rew_mean        | 150      |\n",
      "| time/                 |          |\n",
      "|    fps                | 651      |\n",
      "|    iterations         | 3900     |\n",
      "|    time_elapsed       | 29       |\n",
      "|    total_timesteps    | 19500    |\n",
      "| train/                |          |\n",
      "|    entropy_loss       | -0.615   |\n",
      "|    explained_variance | 0.000432 |\n",
      "|    learning_rate      | 0.0007   |\n",
      "|    n_updates          | 3899     |\n",
      "|    policy_loss        | 7.48e-05 |\n",
      "|    value_loss         | 3.06e-08 |\n",
      "------------------------------------\n",
      "------------------------------------\n",
      "| rollout/              |          |\n",
      "|    ep_len_mean        | 155      |\n",
      "|    ep_rew_mean        | 155      |\n",
      "| time/                 |          |\n",
      "|    fps                | 650      |\n",
      "|    iterations         | 4000     |\n",
      "|    time_elapsed       | 30       |\n",
      "|    total_timesteps    | 20000    |\n",
      "| train/                |          |\n",
      "|    entropy_loss       | -0.485   |\n",
      "|    explained_variance | 0        |\n",
      "|    learning_rate      | 0.0007   |\n",
      "|    n_updates          | 3999     |\n",
      "|    policy_loss        | 0.00287  |\n",
      "|    value_loss         | 0.000188 |\n",
      "------------------------------------\n"
     ]
    }
   ],
   "source": [
    "policy_kwargs = dict(\n",
    "    net_arch=[\n",
    "        dict(vf=[64,64],pi=[64,64])\n",
    "    ],\n",
    "    activation_fn=nn.ReLU6,\n",
    ")\n",
    "hyperparams = dict(\n",
    "    n_steps=5, # number of steps to collect data before updating policy\n",
    "    learning_rate=7e-4,\n",
    "    gamma=0.99, # discount factor\n",
    "    max_grad_norm=0.5, # The maximum value for the gradient clipping\n",
    "    ent_coef=0.0, # Entropy coefficient for the loss calculation\n",
    ")\n",
    "\n",
    "model = A2C(\"MlpPolicy\", \"CartPole-v1\", seed=8, verbose=1, **hyperparams).learn(training_steps)"
   ]
  },
  {
   "cell_type": "code",
   "execution_count": 9,
   "metadata": {},
   "outputs": [
    {
     "name": "stdout",
     "output_type": "stream",
     "text": [
      "mean_reward:171.34 +/- 22.92\n"
     ]
    }
   ],
   "source": [
    "mean_reward, std_reward = evaluate_policy(model, eval_envs_cartpole, n_eval_episodes=50, deterministic=True)\n",
    "\n",
    "print(f\"mean_reward:{mean_reward:.2f} +/- {std_reward:.2f}\")"
   ]
  },
  {
   "attachments": {},
   "cell_type": "markdown",
   "metadata": {},
   "source": [
    "## Hyperparameter Tuning on A2C model"
   ]
  },
  {
   "cell_type": "code",
   "execution_count": 14,
   "metadata": {},
   "outputs": [],
   "source": [
    "import optuna\n",
    "import gym\n",
    "from optuna.pruners import MedianPruner\n",
    "from optuna.samplers import TPESampler\n",
    "from optuna.visualization import plot_optimization_history , plot_param_importances"
   ]
  },
  {
   "cell_type": "code",
   "execution_count": 15,
   "metadata": {},
   "outputs": [],
   "source": [
    "N_TRIALS = 100  # Maximum number of trials\n",
    "N_JOBS = 1 # Number of jobs to run in parallel\n",
    "N_STARTUP_TRIALS = 5  # Stop random sampling after N_STARTUP_TRIALS\n",
    "N_EVALUATIONS = 2  # Number of evaluations during the training\n",
    "N_TIMESTEPS = int(2e4)  # Training budget\n",
    "EVAL_FREQ = int(N_TIMESTEPS / N_EVALUATIONS)\n",
    "N_EVAL_ENVS = 5\n",
    "N_EVAL_EPISODES = 10\n",
    "TIMEOUT = int(60 * 15)  # 15 minutes\n",
    "\n",
    "ENV_ID = \"CartPole-v1\"\n",
    "\n",
    "DEFAULT_HYPERPARAMS = {\n",
    "    \"policy\": \"MlpPolicy\",\n",
    "    \"env\": ENV_ID,\n",
    "}"
   ]
  },
  {
   "cell_type": "code",
   "execution_count": 16,
   "metadata": {},
   "outputs": [],
   "source": [
    "from typing import Any, Dict\n",
    "import torch\n",
    "import torch.nn as nn\n",
    "\n",
    "def sample_a2c_params(trial: optuna.Trial) -> Dict[str, Any]:\n",
    "    \"\"\"\n",
    "    Sampler for A2C hyperparameters.\n",
    "\n",
    "    :param trial: Optuna trial object\n",
    "    :return: The sampled hyperparameters for the given trial.\n",
    "    \"\"\"\n",
    "    # Discount factor between 0.9 and 0.9999\n",
    "    gamma = 1.0 - trial.suggest_float(\"gamma\", 0.0001, 0.1, log=True)\n",
    "    max_grad_norm = trial.suggest_float(\"max_grad_norm\", 0.3, 5.0, log=True)\n",
    "    # 8, 16, 32, ... 1024\n",
    "    n_steps = 2 ** trial.suggest_int(\"exponent_n_steps\", 3, 10)\n",
    "\n",
    "    learning_rate = trial.suggest_float(\"learning_rate\", 1e-5 , 1 , log=True)\n",
    "    net_arch = trial.suggest_categorical(\"net_arch\", [\"tiny\", \"small\"])\n",
    "    activation_fn = trial.suggest_categorical(\"activation_fn\",[\"tanh\",\"relu\"])\n",
    "\n",
    "\n",
    "    # Display true values\n",
    "    trial.set_user_attr(\"gamma_\", gamma)\n",
    "    trial.set_user_attr(\"n_steps\", n_steps)\n",
    "\n",
    "    net_arch = [\n",
    "        {\"pi\": [64], \"vf\": [64]}\n",
    "        if net_arch == \"tiny\"\n",
    "        else {\"pi\": [64, 64], \"vf\": [64, 64]}\n",
    "    ]\n",
    "\n",
    "    activation_fn = {\"tanh\": nn.Tanh, \"relu\": nn.ReLU}[activation_fn]\n",
    "\n",
    "    return {\n",
    "        \"n_steps\": n_steps,\n",
    "        \"gamma\": gamma,\n",
    "        \"learning_rate\": learning_rate,\n",
    "        \"max_grad_norm\": max_grad_norm,\n",
    "        \"policy_kwargs\": {\n",
    "            \"net_arch\": net_arch,\n",
    "            \"activation_fn\": activation_fn,\n",
    "        },\n",
    "    }"
   ]
  },
  {
   "cell_type": "code",
   "execution_count": 17,
   "metadata": {},
   "outputs": [],
   "source": [
    "from stable_baselines3.common.callbacks import EvalCallback\n",
    "\n",
    "class TrialEvalCallback(EvalCallback):\n",
    "    \"\"\"\n",
    "    Callback used for evaluating and reporting a trial.\n",
    "    \n",
    "    :param eval_env: Evaluation environement\n",
    "    :param trial: Optuna trial object\n",
    "    :param n_eval_episodes: Number of evaluation episodes\n",
    "    :param eval_freq:   Evaluate the agent every ``eval_freq`` call of the callback.\n",
    "    :param deterministic: Whether the evaluation should\n",
    "        use a stochastic or deterministic policy.\n",
    "    :param verbose:\n",
    "    \"\"\"\n",
    "\n",
    "    def __init__(\n",
    "        self,\n",
    "        eval_env: gym.Env,\n",
    "        trial: optuna.Trial,\n",
    "        n_eval_episodes: int = 5,\n",
    "        eval_freq: int = 10000,\n",
    "        deterministic: bool = True,\n",
    "        verbose: int = 0,\n",
    "    ):\n",
    "\n",
    "        super().__init__(\n",
    "            eval_env=eval_env,\n",
    "            n_eval_episodes=n_eval_episodes,\n",
    "            eval_freq=eval_freq,\n",
    "            deterministic=deterministic,\n",
    "            verbose=verbose,\n",
    "        )\n",
    "        self.trial = trial\n",
    "        self.eval_idx = 0\n",
    "        self.is_pruned = False\n",
    "\n",
    "    def _on_step(self) -> bool:\n",
    "        if self.eval_freq > 0 and self.n_calls % self.eval_freq == 0:\n",
    "            # Evaluate policy (done in the parent class)\n",
    "            super()._on_step()\n",
    "            self.eval_idx += 1\n",
    "            # Send report to Optuna\n",
    "            self.trial.report(self.last_mean_reward, self.eval_idx)\n",
    "            # Prune trial if need\n",
    "            if self.trial.should_prune():\n",
    "                self.is_pruned = True\n",
    "                return False\n",
    "        return True"
   ]
  },
  {
   "cell_type": "code",
   "execution_count": 19,
   "metadata": {},
   "outputs": [],
   "source": [
    "def objective(trial: optuna.Trial) -> float:\n",
    "    \"\"\"\n",
    "    Objective function using by Optuna to evaluate\n",
    "    one configuration (i.e., one set of hyperparameters).\n",
    "\n",
    "    Given a trial object, it will sample hyperparameters,\n",
    "    evaluate it and report the result (mean episodic reward after training)\n",
    "\n",
    "    :param trial: Optuna trial object\n",
    "    :return: Mean episodic reward after training\n",
    "    \"\"\"\n",
    "\n",
    "    kwargs = DEFAULT_HYPERPARAMS.copy()\n",
    "\n",
    "    # Sample hyperparameters and update the keyword arguments\n",
    "    kwargs.update(sample_a2c_params(trial))\n",
    "    # Create the RL model\n",
    "    model = A2C(**kwargs)\n",
    "\n",
    "    # Create envs used for evaluation using `make_vec_env`, `ENV_ID` and `N_EVAL_ENVS`\n",
    "    eval_envs = make_vec_env(ENV_ID , N_EVAL_ENVS)\n",
    "\n",
    "    # Create the `TrialEvalCallback` callback defined above that will periodically evaluate\n",
    "    # and report the performance using `N_EVAL_EPISODES` every `EVAL_FREQ`\n",
    "    eval_callback = TrialEvalCallback(eval_envs,\n",
    "                                    trial,\n",
    "                                    N_EVAL_EPISODES,\n",
    "                                    EVAL_FREQ,\n",
    "                                    deterministic=True)\n",
    "    \n",
    "    nan_encountered = False\n",
    "    try:\n",
    "        # Train the model\n",
    "        model.learn(N_TIMESTEPS, callback=eval_callback)\n",
    "    except AssertionError as e:\n",
    "        # Sometimes, random hyperparams can generate NaN\n",
    "        print(e)\n",
    "        nan_encountered = True\n",
    "    finally:\n",
    "        # Free memory\n",
    "        model.env.close()\n",
    "        eval_envs.close()\n",
    "\n",
    "    # Tell the optimizer that the trial failed\n",
    "    if nan_encountered:\n",
    "        return float(\"nan\")\n",
    "\n",
    "    if eval_callback.is_pruned:\n",
    "        raise optuna.exceptions.TrialPruned()\n",
    "\n",
    "    return eval_callback.last_mean_reward"
   ]
  },
  {
   "cell_type": "code",
   "execution_count": 20,
   "metadata": {},
   "outputs": [
    {
     "name": "stderr",
     "output_type": "stream",
     "text": [
      "\u001b[32m[I 2023-01-04 12:37:17,541]\u001b[0m A new study created in memory with name: no-name-6630a07a-43a7-4cce-8be3-91346a546261\u001b[0m\n",
      "\u001b[32m[I 2023-01-04 12:37:37,169]\u001b[0m Trial 0 finished with value: 9.3 and parameters: {'gamma': 0.04824648705303817, 'max_grad_norm': 0.3433938457166332, 'exponent_n_steps': 3, 'learning_rate': 0.16651372039944332, 'net_arch': 'tiny', 'activation_fn': 'tanh'}. Best is trial 0 with value: 9.3.\u001b[0m\n",
      "\u001b[32m[I 2023-01-04 12:37:52,252]\u001b[0m Trial 1 finished with value: 500.0 and parameters: {'gamma': 0.0005709567160479219, 'max_grad_norm': 0.7491243076941312, 'exponent_n_steps': 7, 'learning_rate': 0.0064690990642137115, 'net_arch': 'tiny', 'activation_fn': 'relu'}. Best is trial 1 with value: 500.0.\u001b[0m\n",
      "\u001b[32m[I 2023-01-04 12:38:07,133]\u001b[0m Trial 2 finished with value: 186.6 and parameters: {'gamma': 0.0003933528559983561, 'max_grad_norm': 1.2905155948360074, 'exponent_n_steps': 6, 'learning_rate': 4.274028006698576e-05, 'net_arch': 'tiny', 'activation_fn': 'tanh'}. Best is trial 1 with value: 500.0.\u001b[0m\n",
      "\u001b[32m[I 2023-01-04 12:38:22,081]\u001b[0m Trial 3 finished with value: 428.3 and parameters: {'gamma': 0.005369426575887274, 'max_grad_norm': 1.415487981476037, 'exponent_n_steps': 6, 'learning_rate': 0.0008953861467083903, 'net_arch': 'tiny', 'activation_fn': 'relu'}. Best is trial 1 with value: 500.0.\u001b[0m\n",
      "\u001b[32m[I 2023-01-04 12:38:37,907]\u001b[0m Trial 4 finished with value: 100.9 and parameters: {'gamma': 0.019302896340710772, 'max_grad_norm': 0.590819321359465, 'exponent_n_steps': 6, 'learning_rate': 1.9659512883822505e-05, 'net_arch': 'small', 'activation_fn': 'relu'}. Best is trial 1 with value: 500.0.\u001b[0m\n",
      "\u001b[32m[I 2023-01-04 12:38:45,211]\u001b[0m Trial 5 pruned. \u001b[0m\n",
      "\u001b[32m[I 2023-01-04 12:38:51,840]\u001b[0m Trial 6 pruned. \u001b[0m\n",
      "\u001b[32m[I 2023-01-04 12:39:05,379]\u001b[0m Trial 7 finished with value: 422.2 and parameters: {'gamma': 0.0016991223371629362, 'max_grad_norm': 3.447997289948691, 'exponent_n_steps': 8, 'learning_rate': 0.0036164253879215407, 'net_arch': 'tiny', 'activation_fn': 'relu'}. Best is trial 1 with value: 500.0.\u001b[0m\n",
      "\u001b[32m[I 2023-01-04 12:39:15,688]\u001b[0m Trial 8 pruned. \u001b[0m\n",
      "\u001b[32m[I 2023-01-04 12:39:22,009]\u001b[0m Trial 9 pruned. \u001b[0m\n",
      "\u001b[32m[I 2023-01-04 12:39:30,471]\u001b[0m Trial 10 pruned. \u001b[0m\n",
      "\u001b[32m[I 2023-01-04 12:39:37,458]\u001b[0m Trial 11 pruned. \u001b[0m\n",
      "\u001b[32m[I 2023-01-04 12:39:44,250]\u001b[0m Trial 12 pruned. \u001b[0m\n",
      "\u001b[32m[I 2023-01-04 12:39:50,532]\u001b[0m Trial 13 pruned. \u001b[0m\n",
      "\u001b[32m[I 2023-01-04 12:40:05,135]\u001b[0m Trial 14 finished with value: 500.0 and parameters: {'gamma': 0.00040047277250470796, 'max_grad_norm': 4.787199189701762, 'exponent_n_steps': 6, 'learning_rate': 0.0010649955376773727, 'net_arch': 'tiny', 'activation_fn': 'relu'}. Best is trial 1 with value: 500.0.\u001b[0m\n",
      "\u001b[32m[I 2023-01-04 12:40:19,770]\u001b[0m Trial 15 finished with value: 178.6 and parameters: {'gamma': 0.0003425636639713574, 'max_grad_norm': 4.902725936978363, 'exponent_n_steps': 5, 'learning_rate': 0.0020693911687796928, 'net_arch': 'tiny', 'activation_fn': 'relu'}. Best is trial 1 with value: 500.0.\u001b[0m\n",
      "\u001b[32m[I 2023-01-04 12:40:26,137]\u001b[0m Trial 16 pruned. \u001b[0m\n",
      "\u001b[32m[I 2023-01-04 12:40:34,118]\u001b[0m Trial 17 pruned. \u001b[0m\n",
      "\u001b[32m[I 2023-01-04 12:40:41,167]\u001b[0m Trial 18 pruned. \u001b[0m\n",
      "\u001b[32m[I 2023-01-04 12:40:48,140]\u001b[0m Trial 19 pruned. \u001b[0m\n",
      "\u001b[32m[I 2023-01-04 12:40:56,903]\u001b[0m Trial 20 pruned. \u001b[0m\n",
      "\u001b[32m[I 2023-01-04 12:41:03,908]\u001b[0m Trial 21 pruned. \u001b[0m\n",
      "\u001b[32m[I 2023-01-04 12:41:11,605]\u001b[0m Trial 22 pruned. \u001b[0m\n",
      "\u001b[32m[I 2023-01-04 12:41:18,456]\u001b[0m Trial 23 pruned. \u001b[0m\n",
      "\u001b[32m[I 2023-01-04 12:41:35,155]\u001b[0m Trial 24 finished with value: 500.0 and parameters: {'gamma': 0.0013316836662007395, 'max_grad_norm': 2.5710980892653006, 'exponent_n_steps': 5, 'learning_rate': 0.006056597767704953, 'net_arch': 'tiny', 'activation_fn': 'relu'}. Best is trial 1 with value: 500.0.\u001b[0m\n",
      "\u001b[32m[I 2023-01-04 12:41:44,058]\u001b[0m Trial 25 pruned. \u001b[0m\n",
      "\u001b[32m[I 2023-01-04 12:42:00,172]\u001b[0m Trial 26 pruned. \u001b[0m\n",
      "\u001b[32m[I 2023-01-04 12:42:08,593]\u001b[0m Trial 27 pruned. \u001b[0m\n",
      "\u001b[32m[I 2023-01-04 12:42:16,212]\u001b[0m Trial 28 pruned. \u001b[0m\n",
      "\u001b[32m[I 2023-01-04 12:42:26,268]\u001b[0m Trial 29 pruned. \u001b[0m\n",
      "\u001b[32m[I 2023-01-04 12:42:35,456]\u001b[0m Trial 30 pruned. \u001b[0m\n",
      "\u001b[32m[I 2023-01-04 12:42:43,050]\u001b[0m Trial 31 pruned. \u001b[0m\n",
      "\u001b[32m[I 2023-01-04 12:42:50,402]\u001b[0m Trial 32 pruned. \u001b[0m\n",
      "\u001b[32m[I 2023-01-04 12:42:57,902]\u001b[0m Trial 33 pruned. \u001b[0m\n",
      "\u001b[32m[I 2023-01-04 12:43:04,918]\u001b[0m Trial 34 pruned. \u001b[0m\n",
      "\u001b[32m[I 2023-01-04 12:43:13,946]\u001b[0m Trial 35 pruned. \u001b[0m\n",
      "\u001b[32m[I 2023-01-04 12:43:28,697]\u001b[0m Trial 36 finished with value: 500.0 and parameters: {'gamma': 0.00036889472470499885, 'max_grad_norm': 1.024404219458199, 'exponent_n_steps': 6, 'learning_rate': 0.005173643718723269, 'net_arch': 'tiny', 'activation_fn': 'tanh'}. Best is trial 1 with value: 500.0.\u001b[0m\n",
      "\u001b[32m[I 2023-01-04 12:43:35,664]\u001b[0m Trial 37 pruned. \u001b[0m\n",
      "\u001b[32m[I 2023-01-04 12:43:42,528]\u001b[0m Trial 38 pruned. \u001b[0m\n",
      "\u001b[32m[I 2023-01-04 12:43:57,748]\u001b[0m Trial 39 pruned. \u001b[0m\n",
      "\u001b[32m[I 2023-01-04 12:44:04,597]\u001b[0m Trial 40 pruned. \u001b[0m\n",
      "\u001b[32m[I 2023-01-04 12:44:19,583]\u001b[0m Trial 41 pruned. \u001b[0m\n",
      "\u001b[32m[I 2023-01-04 12:44:26,735]\u001b[0m Trial 42 pruned. \u001b[0m\n",
      "\u001b[32m[I 2023-01-04 12:44:40,559]\u001b[0m Trial 43 finished with value: 500.0 and parameters: {'gamma': 0.002452914315992537, 'max_grad_norm': 1.644350019662434, 'exponent_n_steps': 7, 'learning_rate': 0.003502863017708396, 'net_arch': 'tiny', 'activation_fn': 'tanh'}. Best is trial 1 with value: 500.0.\u001b[0m\n",
      "\u001b[32m[I 2023-01-04 12:44:54,996]\u001b[0m Trial 44 finished with value: 500.0 and parameters: {'gamma': 0.0022651905809884755, 'max_grad_norm': 1.6154714638388663, 'exponent_n_steps': 8, 'learning_rate': 0.014695144412279341, 'net_arch': 'tiny', 'activation_fn': 'tanh'}. Best is trial 1 with value: 500.0.\u001b[0m\n",
      "\u001b[32m[I 2023-01-04 12:45:09,959]\u001b[0m Trial 45 finished with value: 500.0 and parameters: {'gamma': 0.0021970809397262266, 'max_grad_norm': 1.6565058479015828, 'exponent_n_steps': 8, 'learning_rate': 0.014376332673108096, 'net_arch': 'tiny', 'activation_fn': 'tanh'}. Best is trial 1 with value: 500.0.\u001b[0m\n",
      "\u001b[32m[I 2023-01-04 12:45:16,227]\u001b[0m Trial 46 pruned. \u001b[0m\n",
      "\u001b[32m[I 2023-01-04 12:45:24,015]\u001b[0m Trial 47 pruned. \u001b[0m\n",
      "\u001b[32m[I 2023-01-04 12:45:38,817]\u001b[0m Trial 48 finished with value: 500.0 and parameters: {'gamma': 0.002072025195523628, 'max_grad_norm': 3.033832199817761, 'exponent_n_steps': 9, 'learning_rate': 0.015451466008317741, 'net_arch': 'tiny', 'activation_fn': 'tanh'}. Best is trial 1 with value: 500.0.\u001b[0m\n",
      "\u001b[32m[I 2023-01-04 12:45:45,008]\u001b[0m Trial 49 pruned. \u001b[0m\n",
      "\u001b[32m[I 2023-01-04 12:45:52,436]\u001b[0m Trial 50 pruned. \u001b[0m\n",
      "\u001b[32m[I 2023-01-04 12:45:59,574]\u001b[0m Trial 51 pruned. \u001b[0m\n",
      "\u001b[32m[I 2023-01-04 12:46:14,335]\u001b[0m Trial 52 finished with value: 500.0 and parameters: {'gamma': 0.001990885595546506, 'max_grad_norm': 2.44561941832983, 'exponent_n_steps': 9, 'learning_rate': 0.01604712389059501, 'net_arch': 'tiny', 'activation_fn': 'tanh'}. Best is trial 1 with value: 500.0.\u001b[0m\n",
      "\u001b[32m[I 2023-01-04 12:46:21,486]\u001b[0m Trial 53 pruned. \u001b[0m\n",
      "\u001b[32m[I 2023-01-04 12:46:28,486]\u001b[0m Trial 54 pruned. \u001b[0m\n",
      "\u001b[32m[I 2023-01-04 12:46:34,912]\u001b[0m Trial 55 pruned. \u001b[0m\n",
      "\u001b[32m[I 2023-01-04 12:46:41,714]\u001b[0m Trial 56 pruned. \u001b[0m\n",
      "\u001b[32m[I 2023-01-04 12:46:48,280]\u001b[0m Trial 57 pruned. \u001b[0m\n",
      "\u001b[32m[I 2023-01-04 12:46:55,750]\u001b[0m Trial 58 pruned. \u001b[0m\n",
      "\u001b[32m[I 2023-01-04 12:47:10,984]\u001b[0m Trial 59 finished with value: 500.0 and parameters: {'gamma': 0.001164470732856636, 'max_grad_norm': 2.47368556469469, 'exponent_n_steps': 7, 'learning_rate': 0.0049226366706695245, 'net_arch': 'tiny', 'activation_fn': 'tanh'}. Best is trial 1 with value: 500.0.\u001b[0m\n",
      "\u001b[32m[I 2023-01-04 12:47:18,637]\u001b[0m Trial 60 pruned. \u001b[0m\n",
      "\u001b[32m[I 2023-01-04 12:47:26,040]\u001b[0m Trial 61 pruned. \u001b[0m\n",
      "\u001b[32m[I 2023-01-04 12:47:32,794]\u001b[0m Trial 62 pruned. \u001b[0m\n",
      "\u001b[32m[I 2023-01-04 12:47:42,124]\u001b[0m Trial 63 pruned. \u001b[0m\n",
      "\u001b[32m[I 2023-01-04 12:47:49,613]\u001b[0m Trial 64 pruned. \u001b[0m\n",
      "\u001b[32m[I 2023-01-04 12:47:57,516]\u001b[0m Trial 65 pruned. \u001b[0m\n",
      "\u001b[32m[I 2023-01-04 12:48:05,078]\u001b[0m Trial 66 pruned. \u001b[0m\n",
      "\u001b[32m[I 2023-01-04 12:48:12,950]\u001b[0m Trial 67 pruned. \u001b[0m\n",
      "\u001b[32m[I 2023-01-04 12:48:20,418]\u001b[0m Trial 68 pruned. \u001b[0m\n",
      "\u001b[32m[I 2023-01-04 12:48:28,520]\u001b[0m Trial 69 pruned. \u001b[0m\n",
      "\u001b[32m[I 2023-01-04 12:48:43,184]\u001b[0m Trial 70 finished with value: 173.3 and parameters: {'gamma': 0.0029025004090605915, 'max_grad_norm': 2.148409422827343, 'exponent_n_steps': 6, 'learning_rate': 0.0016270822454172629, 'net_arch': 'tiny', 'activation_fn': 'tanh'}. Best is trial 1 with value: 500.0.\u001b[0m\n",
      "\u001b[32m[I 2023-01-04 12:48:49,453]\u001b[0m Trial 71 pruned. \u001b[0m\n",
      "\u001b[32m[I 2023-01-04 12:48:55,859]\u001b[0m Trial 72 pruned. \u001b[0m\n",
      "\u001b[32m[I 2023-01-04 12:49:02,733]\u001b[0m Trial 73 pruned. \u001b[0m\n",
      "\u001b[32m[I 2023-01-04 12:49:16,307]\u001b[0m Trial 74 finished with value: 233.7 and parameters: {'gamma': 0.0016687981338927762, 'max_grad_norm': 0.6703725874105543, 'exponent_n_steps': 8, 'learning_rate': 0.007931279021735821, 'net_arch': 'tiny', 'activation_fn': 'tanh'}. Best is trial 1 with value: 500.0.\u001b[0m\n",
      "\u001b[32m[I 2023-01-04 12:49:29,632]\u001b[0m Trial 75 finished with value: 500.0 and parameters: {'gamma': 0.00042754729950462284, 'max_grad_norm': 4.3292273224840665, 'exponent_n_steps': 10, 'learning_rate': 0.029901205230643775, 'net_arch': 'tiny', 'activation_fn': 'tanh'}. Best is trial 1 with value: 500.0.\u001b[0m\n",
      "\u001b[32m[I 2023-01-04 12:49:35,850]\u001b[0m Trial 76 pruned. \u001b[0m\n",
      "\u001b[32m[I 2023-01-04 12:49:42,567]\u001b[0m Trial 77 pruned. \u001b[0m\n",
      "\u001b[32m[I 2023-01-04 12:49:50,660]\u001b[0m Trial 78 pruned. \u001b[0m\n",
      "\u001b[32m[I 2023-01-04 12:49:58,054]\u001b[0m Trial 79 pruned. \u001b[0m\n",
      "\u001b[32m[I 2023-01-04 12:50:05,540]\u001b[0m Trial 80 pruned. \u001b[0m\n",
      "\u001b[32m[I 2023-01-04 12:50:13,428]\u001b[0m Trial 81 pruned. \u001b[0m\n",
      "\u001b[32m[I 2023-01-04 12:50:20,368]\u001b[0m Trial 82 pruned. \u001b[0m\n",
      "\u001b[32m[I 2023-01-04 12:50:27,832]\u001b[0m Trial 83 pruned. \u001b[0m\n",
      "\u001b[32m[I 2023-01-04 12:50:35,927]\u001b[0m Trial 84 pruned. \u001b[0m\n",
      "\u001b[32m[I 2023-01-04 12:50:42,988]\u001b[0m Trial 85 pruned. \u001b[0m\n",
      "\u001b[32m[I 2023-01-04 12:50:57,112]\u001b[0m Trial 86 finished with value: 500.0 and parameters: {'gamma': 0.002776762690311801, 'max_grad_norm': 2.8368902497472908, 'exponent_n_steps': 8, 'learning_rate': 0.00834218639688561, 'net_arch': 'tiny', 'activation_fn': 'relu'}. Best is trial 1 with value: 500.0.\u001b[0m\n",
      "\u001b[32m[I 2023-01-04 12:51:04,837]\u001b[0m Trial 87 pruned. \u001b[0m\n",
      "\u001b[32m[I 2023-01-04 12:51:11,801]\u001b[0m Trial 88 pruned. \u001b[0m\n",
      "\u001b[32m[I 2023-01-04 12:51:19,575]\u001b[0m Trial 89 pruned. \u001b[0m\n",
      "\u001b[32m[I 2023-01-04 12:51:26,752]\u001b[0m Trial 90 pruned. \u001b[0m\n",
      "\u001b[32m[I 2023-01-04 12:51:32,894]\u001b[0m Trial 91 pruned. \u001b[0m\n",
      "\u001b[32m[I 2023-01-04 12:51:40,682]\u001b[0m Trial 92 pruned. \u001b[0m\n",
      "\u001b[32m[I 2023-01-04 12:51:48,230]\u001b[0m Trial 93 pruned. \u001b[0m\n",
      "\u001b[32m[I 2023-01-04 12:51:56,126]\u001b[0m Trial 94 pruned. \u001b[0m\n",
      "\u001b[32m[I 2023-01-04 12:52:03,918]\u001b[0m Trial 95 pruned. \u001b[0m\n",
      "\u001b[32m[I 2023-01-04 12:52:11,431]\u001b[0m Trial 96 pruned. \u001b[0m\n",
      "\u001b[32m[I 2023-01-04 12:52:23,215]\u001b[0m Trial 97 pruned. \u001b[0m\n"
     ]
    },
    {
     "name": "stdout",
     "output_type": "stream",
     "text": [
      "Number of finished trials:  98\n",
      "Best trial:\n",
      "  Value: 500.0\n",
      "  Params: \n",
      "    gamma: 0.0005709567160479219\n",
      "    max_grad_norm: 0.7491243076941312\n",
      "    exponent_n_steps: 7\n",
      "    learning_rate: 0.0064690990642137115\n",
      "    net_arch: tiny\n",
      "    activation_fn: relu\n",
      "  User attrs:\n",
      "    gamma_: 0.9994290432839521\n",
      "    n_steps: 128\n"
     ]
    },
    {
     "data": {
      "application/vnd.plotly.v1+json": {
       "config": {
        "plotlyServerURL": "https://plot.ly"
       },
       "data": [
        {
         "mode": "markers",
         "name": "Objective Value",
         "type": "scatter",
         "x": [
          0,
          1,
          2,
          3,
          4,
          7,
          14,
          15,
          24,
          36,
          43,
          44,
          45,
          48,
          52,
          59,
          70,
          74,
          75,
          86
         ],
         "y": [
          9.3,
          500,
          186.6,
          428.3,
          100.9,
          422.2,
          500,
          178.6,
          500,
          500,
          500,
          500,
          500,
          500,
          500,
          500,
          173.3,
          233.7,
          500,
          500
         ]
        },
        {
         "name": "Best Value",
         "type": "scatter",
         "x": [
          0,
          1,
          2,
          3,
          4,
          7,
          14,
          15,
          24,
          36,
          43,
          44,
          45,
          48,
          52,
          59,
          70,
          74,
          75,
          86
         ],
         "y": [
          9.3,
          500,
          500,
          500,
          500,
          500,
          500,
          500,
          500,
          500,
          500,
          500,
          500,
          500,
          500,
          500,
          500,
          500,
          500,
          500
         ]
        }
       ],
       "layout": {
        "template": {
         "data": {
          "bar": [
           {
            "error_x": {
             "color": "#2a3f5f"
            },
            "error_y": {
             "color": "#2a3f5f"
            },
            "marker": {
             "line": {
              "color": "#E5ECF6",
              "width": 0.5
             },
             "pattern": {
              "fillmode": "overlay",
              "size": 10,
              "solidity": 0.2
             }
            },
            "type": "bar"
           }
          ],
          "barpolar": [
           {
            "marker": {
             "line": {
              "color": "#E5ECF6",
              "width": 0.5
             },
             "pattern": {
              "fillmode": "overlay",
              "size": 10,
              "solidity": 0.2
             }
            },
            "type": "barpolar"
           }
          ],
          "carpet": [
           {
            "aaxis": {
             "endlinecolor": "#2a3f5f",
             "gridcolor": "white",
             "linecolor": "white",
             "minorgridcolor": "white",
             "startlinecolor": "#2a3f5f"
            },
            "baxis": {
             "endlinecolor": "#2a3f5f",
             "gridcolor": "white",
             "linecolor": "white",
             "minorgridcolor": "white",
             "startlinecolor": "#2a3f5f"
            },
            "type": "carpet"
           }
          ],
          "choropleth": [
           {
            "colorbar": {
             "outlinewidth": 0,
             "ticks": ""
            },
            "type": "choropleth"
           }
          ],
          "contour": [
           {
            "colorbar": {
             "outlinewidth": 0,
             "ticks": ""
            },
            "colorscale": [
             [
              0,
              "#0d0887"
             ],
             [
              0.1111111111111111,
              "#46039f"
             ],
             [
              0.2222222222222222,
              "#7201a8"
             ],
             [
              0.3333333333333333,
              "#9c179e"
             ],
             [
              0.4444444444444444,
              "#bd3786"
             ],
             [
              0.5555555555555556,
              "#d8576b"
             ],
             [
              0.6666666666666666,
              "#ed7953"
             ],
             [
              0.7777777777777778,
              "#fb9f3a"
             ],
             [
              0.8888888888888888,
              "#fdca26"
             ],
             [
              1,
              "#f0f921"
             ]
            ],
            "type": "contour"
           }
          ],
          "contourcarpet": [
           {
            "colorbar": {
             "outlinewidth": 0,
             "ticks": ""
            },
            "type": "contourcarpet"
           }
          ],
          "heatmap": [
           {
            "colorbar": {
             "outlinewidth": 0,
             "ticks": ""
            },
            "colorscale": [
             [
              0,
              "#0d0887"
             ],
             [
              0.1111111111111111,
              "#46039f"
             ],
             [
              0.2222222222222222,
              "#7201a8"
             ],
             [
              0.3333333333333333,
              "#9c179e"
             ],
             [
              0.4444444444444444,
              "#bd3786"
             ],
             [
              0.5555555555555556,
              "#d8576b"
             ],
             [
              0.6666666666666666,
              "#ed7953"
             ],
             [
              0.7777777777777778,
              "#fb9f3a"
             ],
             [
              0.8888888888888888,
              "#fdca26"
             ],
             [
              1,
              "#f0f921"
             ]
            ],
            "type": "heatmap"
           }
          ],
          "heatmapgl": [
           {
            "colorbar": {
             "outlinewidth": 0,
             "ticks": ""
            },
            "colorscale": [
             [
              0,
              "#0d0887"
             ],
             [
              0.1111111111111111,
              "#46039f"
             ],
             [
              0.2222222222222222,
              "#7201a8"
             ],
             [
              0.3333333333333333,
              "#9c179e"
             ],
             [
              0.4444444444444444,
              "#bd3786"
             ],
             [
              0.5555555555555556,
              "#d8576b"
             ],
             [
              0.6666666666666666,
              "#ed7953"
             ],
             [
              0.7777777777777778,
              "#fb9f3a"
             ],
             [
              0.8888888888888888,
              "#fdca26"
             ],
             [
              1,
              "#f0f921"
             ]
            ],
            "type": "heatmapgl"
           }
          ],
          "histogram": [
           {
            "marker": {
             "pattern": {
              "fillmode": "overlay",
              "size": 10,
              "solidity": 0.2
             }
            },
            "type": "histogram"
           }
          ],
          "histogram2d": [
           {
            "colorbar": {
             "outlinewidth": 0,
             "ticks": ""
            },
            "colorscale": [
             [
              0,
              "#0d0887"
             ],
             [
              0.1111111111111111,
              "#46039f"
             ],
             [
              0.2222222222222222,
              "#7201a8"
             ],
             [
              0.3333333333333333,
              "#9c179e"
             ],
             [
              0.4444444444444444,
              "#bd3786"
             ],
             [
              0.5555555555555556,
              "#d8576b"
             ],
             [
              0.6666666666666666,
              "#ed7953"
             ],
             [
              0.7777777777777778,
              "#fb9f3a"
             ],
             [
              0.8888888888888888,
              "#fdca26"
             ],
             [
              1,
              "#f0f921"
             ]
            ],
            "type": "histogram2d"
           }
          ],
          "histogram2dcontour": [
           {
            "colorbar": {
             "outlinewidth": 0,
             "ticks": ""
            },
            "colorscale": [
             [
              0,
              "#0d0887"
             ],
             [
              0.1111111111111111,
              "#46039f"
             ],
             [
              0.2222222222222222,
              "#7201a8"
             ],
             [
              0.3333333333333333,
              "#9c179e"
             ],
             [
              0.4444444444444444,
              "#bd3786"
             ],
             [
              0.5555555555555556,
              "#d8576b"
             ],
             [
              0.6666666666666666,
              "#ed7953"
             ],
             [
              0.7777777777777778,
              "#fb9f3a"
             ],
             [
              0.8888888888888888,
              "#fdca26"
             ],
             [
              1,
              "#f0f921"
             ]
            ],
            "type": "histogram2dcontour"
           }
          ],
          "mesh3d": [
           {
            "colorbar": {
             "outlinewidth": 0,
             "ticks": ""
            },
            "type": "mesh3d"
           }
          ],
          "parcoords": [
           {
            "line": {
             "colorbar": {
              "outlinewidth": 0,
              "ticks": ""
             }
            },
            "type": "parcoords"
           }
          ],
          "pie": [
           {
            "automargin": true,
            "type": "pie"
           }
          ],
          "scatter": [
           {
            "fillpattern": {
             "fillmode": "overlay",
             "size": 10,
             "solidity": 0.2
            },
            "type": "scatter"
           }
          ],
          "scatter3d": [
           {
            "line": {
             "colorbar": {
              "outlinewidth": 0,
              "ticks": ""
             }
            },
            "marker": {
             "colorbar": {
              "outlinewidth": 0,
              "ticks": ""
             }
            },
            "type": "scatter3d"
           }
          ],
          "scattercarpet": [
           {
            "marker": {
             "colorbar": {
              "outlinewidth": 0,
              "ticks": ""
             }
            },
            "type": "scattercarpet"
           }
          ],
          "scattergeo": [
           {
            "marker": {
             "colorbar": {
              "outlinewidth": 0,
              "ticks": ""
             }
            },
            "type": "scattergeo"
           }
          ],
          "scattergl": [
           {
            "marker": {
             "colorbar": {
              "outlinewidth": 0,
              "ticks": ""
             }
            },
            "type": "scattergl"
           }
          ],
          "scattermapbox": [
           {
            "marker": {
             "colorbar": {
              "outlinewidth": 0,
              "ticks": ""
             }
            },
            "type": "scattermapbox"
           }
          ],
          "scatterpolar": [
           {
            "marker": {
             "colorbar": {
              "outlinewidth": 0,
              "ticks": ""
             }
            },
            "type": "scatterpolar"
           }
          ],
          "scatterpolargl": [
           {
            "marker": {
             "colorbar": {
              "outlinewidth": 0,
              "ticks": ""
             }
            },
            "type": "scatterpolargl"
           }
          ],
          "scatterternary": [
           {
            "marker": {
             "colorbar": {
              "outlinewidth": 0,
              "ticks": ""
             }
            },
            "type": "scatterternary"
           }
          ],
          "surface": [
           {
            "colorbar": {
             "outlinewidth": 0,
             "ticks": ""
            },
            "colorscale": [
             [
              0,
              "#0d0887"
             ],
             [
              0.1111111111111111,
              "#46039f"
             ],
             [
              0.2222222222222222,
              "#7201a8"
             ],
             [
              0.3333333333333333,
              "#9c179e"
             ],
             [
              0.4444444444444444,
              "#bd3786"
             ],
             [
              0.5555555555555556,
              "#d8576b"
             ],
             [
              0.6666666666666666,
              "#ed7953"
             ],
             [
              0.7777777777777778,
              "#fb9f3a"
             ],
             [
              0.8888888888888888,
              "#fdca26"
             ],
             [
              1,
              "#f0f921"
             ]
            ],
            "type": "surface"
           }
          ],
          "table": [
           {
            "cells": {
             "fill": {
              "color": "#EBF0F8"
             },
             "line": {
              "color": "white"
             }
            },
            "header": {
             "fill": {
              "color": "#C8D4E3"
             },
             "line": {
              "color": "white"
             }
            },
            "type": "table"
           }
          ]
         },
         "layout": {
          "annotationdefaults": {
           "arrowcolor": "#2a3f5f",
           "arrowhead": 0,
           "arrowwidth": 1
          },
          "autotypenumbers": "strict",
          "coloraxis": {
           "colorbar": {
            "outlinewidth": 0,
            "ticks": ""
           }
          },
          "colorscale": {
           "diverging": [
            [
             0,
             "#8e0152"
            ],
            [
             0.1,
             "#c51b7d"
            ],
            [
             0.2,
             "#de77ae"
            ],
            [
             0.3,
             "#f1b6da"
            ],
            [
             0.4,
             "#fde0ef"
            ],
            [
             0.5,
             "#f7f7f7"
            ],
            [
             0.6,
             "#e6f5d0"
            ],
            [
             0.7,
             "#b8e186"
            ],
            [
             0.8,
             "#7fbc41"
            ],
            [
             0.9,
             "#4d9221"
            ],
            [
             1,
             "#276419"
            ]
           ],
           "sequential": [
            [
             0,
             "#0d0887"
            ],
            [
             0.1111111111111111,
             "#46039f"
            ],
            [
             0.2222222222222222,
             "#7201a8"
            ],
            [
             0.3333333333333333,
             "#9c179e"
            ],
            [
             0.4444444444444444,
             "#bd3786"
            ],
            [
             0.5555555555555556,
             "#d8576b"
            ],
            [
             0.6666666666666666,
             "#ed7953"
            ],
            [
             0.7777777777777778,
             "#fb9f3a"
            ],
            [
             0.8888888888888888,
             "#fdca26"
            ],
            [
             1,
             "#f0f921"
            ]
           ],
           "sequentialminus": [
            [
             0,
             "#0d0887"
            ],
            [
             0.1111111111111111,
             "#46039f"
            ],
            [
             0.2222222222222222,
             "#7201a8"
            ],
            [
             0.3333333333333333,
             "#9c179e"
            ],
            [
             0.4444444444444444,
             "#bd3786"
            ],
            [
             0.5555555555555556,
             "#d8576b"
            ],
            [
             0.6666666666666666,
             "#ed7953"
            ],
            [
             0.7777777777777778,
             "#fb9f3a"
            ],
            [
             0.8888888888888888,
             "#fdca26"
            ],
            [
             1,
             "#f0f921"
            ]
           ]
          },
          "colorway": [
           "#636efa",
           "#EF553B",
           "#00cc96",
           "#ab63fa",
           "#FFA15A",
           "#19d3f3",
           "#FF6692",
           "#B6E880",
           "#FF97FF",
           "#FECB52"
          ],
          "font": {
           "color": "#2a3f5f"
          },
          "geo": {
           "bgcolor": "white",
           "lakecolor": "white",
           "landcolor": "#E5ECF6",
           "showlakes": true,
           "showland": true,
           "subunitcolor": "white"
          },
          "hoverlabel": {
           "align": "left"
          },
          "hovermode": "closest",
          "mapbox": {
           "style": "light"
          },
          "paper_bgcolor": "white",
          "plot_bgcolor": "#E5ECF6",
          "polar": {
           "angularaxis": {
            "gridcolor": "white",
            "linecolor": "white",
            "ticks": ""
           },
           "bgcolor": "#E5ECF6",
           "radialaxis": {
            "gridcolor": "white",
            "linecolor": "white",
            "ticks": ""
           }
          },
          "scene": {
           "xaxis": {
            "backgroundcolor": "#E5ECF6",
            "gridcolor": "white",
            "gridwidth": 2,
            "linecolor": "white",
            "showbackground": true,
            "ticks": "",
            "zerolinecolor": "white"
           },
           "yaxis": {
            "backgroundcolor": "#E5ECF6",
            "gridcolor": "white",
            "gridwidth": 2,
            "linecolor": "white",
            "showbackground": true,
            "ticks": "",
            "zerolinecolor": "white"
           },
           "zaxis": {
            "backgroundcolor": "#E5ECF6",
            "gridcolor": "white",
            "gridwidth": 2,
            "linecolor": "white",
            "showbackground": true,
            "ticks": "",
            "zerolinecolor": "white"
           }
          },
          "shapedefaults": {
           "line": {
            "color": "#2a3f5f"
           }
          },
          "ternary": {
           "aaxis": {
            "gridcolor": "white",
            "linecolor": "white",
            "ticks": ""
           },
           "baxis": {
            "gridcolor": "white",
            "linecolor": "white",
            "ticks": ""
           },
           "bgcolor": "#E5ECF6",
           "caxis": {
            "gridcolor": "white",
            "linecolor": "white",
            "ticks": ""
           }
          },
          "title": {
           "x": 0.05
          },
          "xaxis": {
           "automargin": true,
           "gridcolor": "white",
           "linecolor": "white",
           "ticks": "",
           "title": {
            "standoff": 15
           },
           "zerolinecolor": "white",
           "zerolinewidth": 2
          },
          "yaxis": {
           "automargin": true,
           "gridcolor": "white",
           "linecolor": "white",
           "ticks": "",
           "title": {
            "standoff": 15
           },
           "zerolinecolor": "white",
           "zerolinewidth": 2
          }
         }
        },
        "title": {
         "text": "Optimization History Plot"
        },
        "xaxis": {
         "title": {
          "text": "Trial"
         }
        },
        "yaxis": {
         "title": {
          "text": "Objective Value"
         }
        }
       }
      }
     },
     "metadata": {},
     "output_type": "display_data"
    },
    {
     "data": {
      "application/vnd.plotly.v1+json": {
       "config": {
        "plotlyServerURL": "https://plot.ly"
       },
       "data": [
        {
         "cliponaxis": false,
         "hovertemplate": [
          "net_arch (CategoricalDistribution): 0.0023934574434875374<extra></extra>",
          "activation_fn (CategoricalDistribution): 0.04910878296284891<extra></extra>",
          "learning_rate (FloatDistribution): 0.11786055413641486<extra></extra>",
          "exponent_n_steps (IntDistribution): 0.16105801414848872<extra></extra>",
          "gamma (FloatDistribution): 0.22508383488382583<extra></extra>",
          "max_grad_norm (FloatDistribution): 0.444495356424934<extra></extra>"
         ],
         "marker": {
          "color": "rgb(66,146,198)"
         },
         "orientation": "h",
         "text": [
          "<0.01",
          "0.05",
          "0.12",
          "0.16",
          "0.23",
          "0.44"
         ],
         "textposition": "outside",
         "type": "bar",
         "x": [
          0.0023934574434875374,
          0.04910878296284891,
          0.11786055413641486,
          0.16105801414848872,
          0.22508383488382583,
          0.444495356424934
         ],
         "y": [
          "net_arch",
          "activation_fn",
          "learning_rate",
          "exponent_n_steps",
          "gamma",
          "max_grad_norm"
         ]
        }
       ],
       "layout": {
        "showlegend": false,
        "template": {
         "data": {
          "bar": [
           {
            "error_x": {
             "color": "#2a3f5f"
            },
            "error_y": {
             "color": "#2a3f5f"
            },
            "marker": {
             "line": {
              "color": "#E5ECF6",
              "width": 0.5
             },
             "pattern": {
              "fillmode": "overlay",
              "size": 10,
              "solidity": 0.2
             }
            },
            "type": "bar"
           }
          ],
          "barpolar": [
           {
            "marker": {
             "line": {
              "color": "#E5ECF6",
              "width": 0.5
             },
             "pattern": {
              "fillmode": "overlay",
              "size": 10,
              "solidity": 0.2
             }
            },
            "type": "barpolar"
           }
          ],
          "carpet": [
           {
            "aaxis": {
             "endlinecolor": "#2a3f5f",
             "gridcolor": "white",
             "linecolor": "white",
             "minorgridcolor": "white",
             "startlinecolor": "#2a3f5f"
            },
            "baxis": {
             "endlinecolor": "#2a3f5f",
             "gridcolor": "white",
             "linecolor": "white",
             "minorgridcolor": "white",
             "startlinecolor": "#2a3f5f"
            },
            "type": "carpet"
           }
          ],
          "choropleth": [
           {
            "colorbar": {
             "outlinewidth": 0,
             "ticks": ""
            },
            "type": "choropleth"
           }
          ],
          "contour": [
           {
            "colorbar": {
             "outlinewidth": 0,
             "ticks": ""
            },
            "colorscale": [
             [
              0,
              "#0d0887"
             ],
             [
              0.1111111111111111,
              "#46039f"
             ],
             [
              0.2222222222222222,
              "#7201a8"
             ],
             [
              0.3333333333333333,
              "#9c179e"
             ],
             [
              0.4444444444444444,
              "#bd3786"
             ],
             [
              0.5555555555555556,
              "#d8576b"
             ],
             [
              0.6666666666666666,
              "#ed7953"
             ],
             [
              0.7777777777777778,
              "#fb9f3a"
             ],
             [
              0.8888888888888888,
              "#fdca26"
             ],
             [
              1,
              "#f0f921"
             ]
            ],
            "type": "contour"
           }
          ],
          "contourcarpet": [
           {
            "colorbar": {
             "outlinewidth": 0,
             "ticks": ""
            },
            "type": "contourcarpet"
           }
          ],
          "heatmap": [
           {
            "colorbar": {
             "outlinewidth": 0,
             "ticks": ""
            },
            "colorscale": [
             [
              0,
              "#0d0887"
             ],
             [
              0.1111111111111111,
              "#46039f"
             ],
             [
              0.2222222222222222,
              "#7201a8"
             ],
             [
              0.3333333333333333,
              "#9c179e"
             ],
             [
              0.4444444444444444,
              "#bd3786"
             ],
             [
              0.5555555555555556,
              "#d8576b"
             ],
             [
              0.6666666666666666,
              "#ed7953"
             ],
             [
              0.7777777777777778,
              "#fb9f3a"
             ],
             [
              0.8888888888888888,
              "#fdca26"
             ],
             [
              1,
              "#f0f921"
             ]
            ],
            "type": "heatmap"
           }
          ],
          "heatmapgl": [
           {
            "colorbar": {
             "outlinewidth": 0,
             "ticks": ""
            },
            "colorscale": [
             [
              0,
              "#0d0887"
             ],
             [
              0.1111111111111111,
              "#46039f"
             ],
             [
              0.2222222222222222,
              "#7201a8"
             ],
             [
              0.3333333333333333,
              "#9c179e"
             ],
             [
              0.4444444444444444,
              "#bd3786"
             ],
             [
              0.5555555555555556,
              "#d8576b"
             ],
             [
              0.6666666666666666,
              "#ed7953"
             ],
             [
              0.7777777777777778,
              "#fb9f3a"
             ],
             [
              0.8888888888888888,
              "#fdca26"
             ],
             [
              1,
              "#f0f921"
             ]
            ],
            "type": "heatmapgl"
           }
          ],
          "histogram": [
           {
            "marker": {
             "pattern": {
              "fillmode": "overlay",
              "size": 10,
              "solidity": 0.2
             }
            },
            "type": "histogram"
           }
          ],
          "histogram2d": [
           {
            "colorbar": {
             "outlinewidth": 0,
             "ticks": ""
            },
            "colorscale": [
             [
              0,
              "#0d0887"
             ],
             [
              0.1111111111111111,
              "#46039f"
             ],
             [
              0.2222222222222222,
              "#7201a8"
             ],
             [
              0.3333333333333333,
              "#9c179e"
             ],
             [
              0.4444444444444444,
              "#bd3786"
             ],
             [
              0.5555555555555556,
              "#d8576b"
             ],
             [
              0.6666666666666666,
              "#ed7953"
             ],
             [
              0.7777777777777778,
              "#fb9f3a"
             ],
             [
              0.8888888888888888,
              "#fdca26"
             ],
             [
              1,
              "#f0f921"
             ]
            ],
            "type": "histogram2d"
           }
          ],
          "histogram2dcontour": [
           {
            "colorbar": {
             "outlinewidth": 0,
             "ticks": ""
            },
            "colorscale": [
             [
              0,
              "#0d0887"
             ],
             [
              0.1111111111111111,
              "#46039f"
             ],
             [
              0.2222222222222222,
              "#7201a8"
             ],
             [
              0.3333333333333333,
              "#9c179e"
             ],
             [
              0.4444444444444444,
              "#bd3786"
             ],
             [
              0.5555555555555556,
              "#d8576b"
             ],
             [
              0.6666666666666666,
              "#ed7953"
             ],
             [
              0.7777777777777778,
              "#fb9f3a"
             ],
             [
              0.8888888888888888,
              "#fdca26"
             ],
             [
              1,
              "#f0f921"
             ]
            ],
            "type": "histogram2dcontour"
           }
          ],
          "mesh3d": [
           {
            "colorbar": {
             "outlinewidth": 0,
             "ticks": ""
            },
            "type": "mesh3d"
           }
          ],
          "parcoords": [
           {
            "line": {
             "colorbar": {
              "outlinewidth": 0,
              "ticks": ""
             }
            },
            "type": "parcoords"
           }
          ],
          "pie": [
           {
            "automargin": true,
            "type": "pie"
           }
          ],
          "scatter": [
           {
            "fillpattern": {
             "fillmode": "overlay",
             "size": 10,
             "solidity": 0.2
            },
            "type": "scatter"
           }
          ],
          "scatter3d": [
           {
            "line": {
             "colorbar": {
              "outlinewidth": 0,
              "ticks": ""
             }
            },
            "marker": {
             "colorbar": {
              "outlinewidth": 0,
              "ticks": ""
             }
            },
            "type": "scatter3d"
           }
          ],
          "scattercarpet": [
           {
            "marker": {
             "colorbar": {
              "outlinewidth": 0,
              "ticks": ""
             }
            },
            "type": "scattercarpet"
           }
          ],
          "scattergeo": [
           {
            "marker": {
             "colorbar": {
              "outlinewidth": 0,
              "ticks": ""
             }
            },
            "type": "scattergeo"
           }
          ],
          "scattergl": [
           {
            "marker": {
             "colorbar": {
              "outlinewidth": 0,
              "ticks": ""
             }
            },
            "type": "scattergl"
           }
          ],
          "scattermapbox": [
           {
            "marker": {
             "colorbar": {
              "outlinewidth": 0,
              "ticks": ""
             }
            },
            "type": "scattermapbox"
           }
          ],
          "scatterpolar": [
           {
            "marker": {
             "colorbar": {
              "outlinewidth": 0,
              "ticks": ""
             }
            },
            "type": "scatterpolar"
           }
          ],
          "scatterpolargl": [
           {
            "marker": {
             "colorbar": {
              "outlinewidth": 0,
              "ticks": ""
             }
            },
            "type": "scatterpolargl"
           }
          ],
          "scatterternary": [
           {
            "marker": {
             "colorbar": {
              "outlinewidth": 0,
              "ticks": ""
             }
            },
            "type": "scatterternary"
           }
          ],
          "surface": [
           {
            "colorbar": {
             "outlinewidth": 0,
             "ticks": ""
            },
            "colorscale": [
             [
              0,
              "#0d0887"
             ],
             [
              0.1111111111111111,
              "#46039f"
             ],
             [
              0.2222222222222222,
              "#7201a8"
             ],
             [
              0.3333333333333333,
              "#9c179e"
             ],
             [
              0.4444444444444444,
              "#bd3786"
             ],
             [
              0.5555555555555556,
              "#d8576b"
             ],
             [
              0.6666666666666666,
              "#ed7953"
             ],
             [
              0.7777777777777778,
              "#fb9f3a"
             ],
             [
              0.8888888888888888,
              "#fdca26"
             ],
             [
              1,
              "#f0f921"
             ]
            ],
            "type": "surface"
           }
          ],
          "table": [
           {
            "cells": {
             "fill": {
              "color": "#EBF0F8"
             },
             "line": {
              "color": "white"
             }
            },
            "header": {
             "fill": {
              "color": "#C8D4E3"
             },
             "line": {
              "color": "white"
             }
            },
            "type": "table"
           }
          ]
         },
         "layout": {
          "annotationdefaults": {
           "arrowcolor": "#2a3f5f",
           "arrowhead": 0,
           "arrowwidth": 1
          },
          "autotypenumbers": "strict",
          "coloraxis": {
           "colorbar": {
            "outlinewidth": 0,
            "ticks": ""
           }
          },
          "colorscale": {
           "diverging": [
            [
             0,
             "#8e0152"
            ],
            [
             0.1,
             "#c51b7d"
            ],
            [
             0.2,
             "#de77ae"
            ],
            [
             0.3,
             "#f1b6da"
            ],
            [
             0.4,
             "#fde0ef"
            ],
            [
             0.5,
             "#f7f7f7"
            ],
            [
             0.6,
             "#e6f5d0"
            ],
            [
             0.7,
             "#b8e186"
            ],
            [
             0.8,
             "#7fbc41"
            ],
            [
             0.9,
             "#4d9221"
            ],
            [
             1,
             "#276419"
            ]
           ],
           "sequential": [
            [
             0,
             "#0d0887"
            ],
            [
             0.1111111111111111,
             "#46039f"
            ],
            [
             0.2222222222222222,
             "#7201a8"
            ],
            [
             0.3333333333333333,
             "#9c179e"
            ],
            [
             0.4444444444444444,
             "#bd3786"
            ],
            [
             0.5555555555555556,
             "#d8576b"
            ],
            [
             0.6666666666666666,
             "#ed7953"
            ],
            [
             0.7777777777777778,
             "#fb9f3a"
            ],
            [
             0.8888888888888888,
             "#fdca26"
            ],
            [
             1,
             "#f0f921"
            ]
           ],
           "sequentialminus": [
            [
             0,
             "#0d0887"
            ],
            [
             0.1111111111111111,
             "#46039f"
            ],
            [
             0.2222222222222222,
             "#7201a8"
            ],
            [
             0.3333333333333333,
             "#9c179e"
            ],
            [
             0.4444444444444444,
             "#bd3786"
            ],
            [
             0.5555555555555556,
             "#d8576b"
            ],
            [
             0.6666666666666666,
             "#ed7953"
            ],
            [
             0.7777777777777778,
             "#fb9f3a"
            ],
            [
             0.8888888888888888,
             "#fdca26"
            ],
            [
             1,
             "#f0f921"
            ]
           ]
          },
          "colorway": [
           "#636efa",
           "#EF553B",
           "#00cc96",
           "#ab63fa",
           "#FFA15A",
           "#19d3f3",
           "#FF6692",
           "#B6E880",
           "#FF97FF",
           "#FECB52"
          ],
          "font": {
           "color": "#2a3f5f"
          },
          "geo": {
           "bgcolor": "white",
           "lakecolor": "white",
           "landcolor": "#E5ECF6",
           "showlakes": true,
           "showland": true,
           "subunitcolor": "white"
          },
          "hoverlabel": {
           "align": "left"
          },
          "hovermode": "closest",
          "mapbox": {
           "style": "light"
          },
          "paper_bgcolor": "white",
          "plot_bgcolor": "#E5ECF6",
          "polar": {
           "angularaxis": {
            "gridcolor": "white",
            "linecolor": "white",
            "ticks": ""
           },
           "bgcolor": "#E5ECF6",
           "radialaxis": {
            "gridcolor": "white",
            "linecolor": "white",
            "ticks": ""
           }
          },
          "scene": {
           "xaxis": {
            "backgroundcolor": "#E5ECF6",
            "gridcolor": "white",
            "gridwidth": 2,
            "linecolor": "white",
            "showbackground": true,
            "ticks": "",
            "zerolinecolor": "white"
           },
           "yaxis": {
            "backgroundcolor": "#E5ECF6",
            "gridcolor": "white",
            "gridwidth": 2,
            "linecolor": "white",
            "showbackground": true,
            "ticks": "",
            "zerolinecolor": "white"
           },
           "zaxis": {
            "backgroundcolor": "#E5ECF6",
            "gridcolor": "white",
            "gridwidth": 2,
            "linecolor": "white",
            "showbackground": true,
            "ticks": "",
            "zerolinecolor": "white"
           }
          },
          "shapedefaults": {
           "line": {
            "color": "#2a3f5f"
           }
          },
          "ternary": {
           "aaxis": {
            "gridcolor": "white",
            "linecolor": "white",
            "ticks": ""
           },
           "baxis": {
            "gridcolor": "white",
            "linecolor": "white",
            "ticks": ""
           },
           "bgcolor": "#E5ECF6",
           "caxis": {
            "gridcolor": "white",
            "linecolor": "white",
            "ticks": ""
           }
          },
          "title": {
           "x": 0.05
          },
          "xaxis": {
           "automargin": true,
           "gridcolor": "white",
           "linecolor": "white",
           "ticks": "",
           "title": {
            "standoff": 15
           },
           "zerolinecolor": "white",
           "zerolinewidth": 2
          },
          "yaxis": {
           "automargin": true,
           "gridcolor": "white",
           "linecolor": "white",
           "ticks": "",
           "title": {
            "standoff": 15
           },
           "zerolinecolor": "white",
           "zerolinewidth": 2
          }
         }
        },
        "title": {
         "text": "Hyperparameter Importances"
        },
        "xaxis": {
         "title": {
          "text": "Importance for Objective Value"
         }
        },
        "yaxis": {
         "title": {
          "text": "Hyperparameter"
         }
        }
       }
      }
     },
     "metadata": {},
     "output_type": "display_data"
    }
   ],
   "source": [
    "import torch as th\n",
    "\n",
    "# Set pytorch num threads to 1 for faster training\n",
    "th.set_num_threads(1)\n",
    "# Select the sampler, can be random, TPESampler, CMAES, ...\n",
    "sampler = TPESampler(n_startup_trials=N_STARTUP_TRIALS)\n",
    "# Do not prune before 1/3 of the max budget is used\n",
    "pruner = MedianPruner(\n",
    "    n_startup_trials=N_STARTUP_TRIALS, n_warmup_steps=N_EVALUATIONS // 3\n",
    ")\n",
    "# Create the study and start the hyperparameter optimization\n",
    "study = optuna.create_study(sampler=sampler, pruner=pruner, direction=\"maximize\")\n",
    "\n",
    "try:\n",
    "    study.optimize(objective, n_trials=N_TRIALS, n_jobs=N_JOBS, timeout=TIMEOUT)\n",
    "except KeyboardInterrupt:\n",
    "    pass\n",
    "\n",
    "print(\"Number of finished trials: \", len(study.trials))\n",
    "\n",
    "print(\"Best trial:\")\n",
    "trial = study.best_trial\n",
    "\n",
    "print(f\"  Value: {trial.value}\")\n",
    "\n",
    "print(\"  Params: \")\n",
    "for key, value in trial.params.items():\n",
    "    print(f\"    {key}: {value}\")\n",
    "\n",
    "print(\"  User attrs:\")\n",
    "for key, value in trial.user_attrs.items():\n",
    "    print(f\"    {key}: {value}\")\n",
    "\n",
    "# Write report\n",
    "study.trials_dataframe().to_csv(\"study_results_a2c_cartpole.csv\")\n",
    "\n",
    "fig1 = plot_optimization_history(study)\n",
    "fig2 = plot_param_importances(study)\n",
    "\n",
    "fig1.show()\n",
    "fig2.show()"
   ]
  }
 ],
 "metadata": {
  "kernelspec": {
   "display_name": "base",
   "language": "python",
   "name": "python3"
  },
  "language_info": {
   "codemirror_mode": {
    "name": "ipython",
    "version": 3
   },
   "file_extension": ".py",
   "mimetype": "text/x-python",
   "name": "python",
   "nbconvert_exporter": "python",
   "pygments_lexer": "ipython3",
   "version": "3.9.13 (main, Oct 13 2022, 21:15:33) \n[GCC 11.2.0]"
  },
  "orig_nbformat": 4,
  "vscode": {
   "interpreter": {
    "hash": "d44946a3bef853c818cc92ed914aabd16d5c0fd4913f098d966e27a410d5ae0b"
   }
  }
 },
 "nbformat": 4,
 "nbformat_minor": 2
}
