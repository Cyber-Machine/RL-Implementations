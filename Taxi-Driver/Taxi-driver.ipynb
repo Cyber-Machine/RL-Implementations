{
 "cells": [
  {
   "cell_type": "code",
   "execution_count": 2,
   "metadata": {},
   "outputs": [
    {
     "name": "stdout",
     "output_type": "stream",
     "text": [
      "Requirement already satisfied: stable-baselines3[extra] in /home/eyepatch/anaconda3/lib/python3.9/site-packages (1.6.2)\n",
      "Requirement already satisfied: torch>=1.11 in /home/eyepatch/anaconda3/lib/python3.9/site-packages (from stable-baselines3[extra]) (1.11.0)\n",
      "Requirement already satisfied: pandas in /home/eyepatch/anaconda3/lib/python3.9/site-packages (from stable-baselines3[extra]) (1.5.0)\n",
      "Requirement already satisfied: importlib-metadata~=4.13 in /home/eyepatch/anaconda3/lib/python3.9/site-packages (from stable-baselines3[extra]) (4.13.0)\n",
      "Requirement already satisfied: gym==0.21 in /home/eyepatch/anaconda3/lib/python3.9/site-packages (from stable-baselines3[extra]) (0.21.0)\n",
      "Requirement already satisfied: numpy in /home/eyepatch/anaconda3/lib/python3.9/site-packages (from stable-baselines3[extra]) (1.21.6)\n",
      "Requirement already satisfied: cloudpickle in /home/eyepatch/anaconda3/lib/python3.9/site-packages (from stable-baselines3[extra]) (2.0.0)\n",
      "Requirement already satisfied: matplotlib in /home/eyepatch/anaconda3/lib/python3.9/site-packages (from stable-baselines3[extra]) (3.6.2)\n",
      "Requirement already satisfied: tqdm in /home/eyepatch/anaconda3/lib/python3.9/site-packages (from stable-baselines3[extra]) (4.64.1)\n",
      "Requirement already satisfied: tensorboard>=2.9.1 in /home/eyepatch/anaconda3/lib/python3.9/site-packages (from stable-baselines3[extra]) (2.10.1)\n",
      "Requirement already satisfied: pillow in /home/eyepatch/anaconda3/lib/python3.9/site-packages (from stable-baselines3[extra]) (9.3.0)\n",
      "Requirement already satisfied: psutil in /home/eyepatch/anaconda3/lib/python3.9/site-packages (from stable-baselines3[extra]) (5.9.0)\n",
      "Requirement already satisfied: opencv-python in /home/eyepatch/anaconda3/lib/python3.9/site-packages (from stable-baselines3[extra]) (4.6.0.66)\n",
      "Requirement already satisfied: rich in /home/eyepatch/anaconda3/lib/python3.9/site-packages (from stable-baselines3[extra]) (12.4.4)\n",
      "Collecting autorom[accept-rom-license]~=0.4.2\n",
      "  Downloading AutoROM-0.4.2-py3-none-any.whl (16 kB)\n",
      "Collecting ale-py==0.7.4\n",
      "  Downloading ale_py-0.7.4-cp39-cp39-manylinux_2_17_x86_64.manylinux2014_x86_64.whl (1.6 MB)\n",
      "\u001b[2K     \u001b[90m━━━━━━━━━━━━━━━━━━━━━━━━━━━━━━━━━━━━━━━━\u001b[0m \u001b[32m1.6/1.6 MB\u001b[0m \u001b[31m1.1 MB/s\u001b[0m eta \u001b[36m0:00:00\u001b[0m00:01\u001b[0m00:01\u001b[0m0m\n",
      "\u001b[?25hRequirement already satisfied: importlib-resources in /home/eyepatch/anaconda3/lib/python3.9/site-packages (from ale-py==0.7.4->stable-baselines3[extra]) (5.9.0)\n",
      "Requirement already satisfied: requests in /home/eyepatch/anaconda3/lib/python3.9/site-packages (from autorom[accept-rom-license]~=0.4.2->stable-baselines3[extra]) (2.28.1)\n",
      "Requirement already satisfied: click in /home/eyepatch/anaconda3/lib/python3.9/site-packages (from autorom[accept-rom-license]~=0.4.2->stable-baselines3[extra]) (8.1.3)\n",
      "Collecting AutoROM.accept-rom-license\n",
      "  Downloading AutoROM.accept-rom-license-0.5.0.tar.gz (10 kB)\n",
      "  Installing build dependencies ... \u001b[?25ldone\n",
      "\u001b[?25h  Getting requirements to build wheel ... \u001b[?25ldone\n",
      "\u001b[?25h  Preparing metadata (pyproject.toml) ... \u001b[?25ldone\n",
      "\u001b[?25hRequirement already satisfied: zipp>=0.5 in /home/eyepatch/anaconda3/lib/python3.9/site-packages (from importlib-metadata~=4.13->stable-baselines3[extra]) (3.11.0)\n",
      "Requirement already satisfied: werkzeug>=1.0.1 in /home/eyepatch/anaconda3/lib/python3.9/site-packages (from tensorboard>=2.9.1->stable-baselines3[extra]) (2.0.3)\n",
      "Requirement already satisfied: markdown>=2.6.8 in /home/eyepatch/anaconda3/lib/python3.9/site-packages (from tensorboard>=2.9.1->stable-baselines3[extra]) (3.4.1)\n",
      "Requirement already satisfied: setuptools>=41.0.0 in /home/eyepatch/anaconda3/lib/python3.9/site-packages (from tensorboard>=2.9.1->stable-baselines3[extra]) (65.5.0)\n",
      "Requirement already satisfied: tensorboard-plugin-wit>=1.6.0 in /home/eyepatch/anaconda3/lib/python3.9/site-packages (from tensorboard>=2.9.1->stable-baselines3[extra]) (1.8.1)\n",
      "Requirement already satisfied: tensorboard-data-server<0.7.0,>=0.6.0 in /home/eyepatch/anaconda3/lib/python3.9/site-packages (from tensorboard>=2.9.1->stable-baselines3[extra]) (0.6.1)\n",
      "Requirement already satisfied: google-auth<3,>=1.6.3 in /home/eyepatch/anaconda3/lib/python3.9/site-packages (from tensorboard>=2.9.1->stable-baselines3[extra]) (2.11.0)\n",
      "Requirement already satisfied: grpcio>=1.24.3 in /home/eyepatch/anaconda3/lib/python3.9/site-packages (from tensorboard>=2.9.1->stable-baselines3[extra]) (1.48.1)\n",
      "Requirement already satisfied: absl-py>=0.4 in /home/eyepatch/anaconda3/lib/python3.9/site-packages (from tensorboard>=2.9.1->stable-baselines3[extra]) (1.1.0)\n",
      "Collecting protobuf<3.20,>=3.9.2\n",
      "  Using cached protobuf-3.19.6-cp39-cp39-manylinux_2_17_x86_64.manylinux2014_x86_64.whl (1.1 MB)\n",
      "Requirement already satisfied: wheel>=0.26 in /home/eyepatch/anaconda3/lib/python3.9/site-packages (from tensorboard>=2.9.1->stable-baselines3[extra]) (0.37.1)\n",
      "Requirement already satisfied: google-auth-oauthlib<0.5,>=0.4.1 in /home/eyepatch/anaconda3/lib/python3.9/site-packages (from tensorboard>=2.9.1->stable-baselines3[extra]) (0.4.6)\n",
      "Requirement already satisfied: typing_extensions in /home/eyepatch/anaconda3/lib/python3.9/site-packages (from torch>=1.11->stable-baselines3[extra]) (4.4.0)\n",
      "Requirement already satisfied: packaging>=20.0 in /home/eyepatch/anaconda3/lib/python3.9/site-packages (from matplotlib->stable-baselines3[extra]) (22.0)\n",
      "Requirement already satisfied: contourpy>=1.0.1 in /home/eyepatch/anaconda3/lib/python3.9/site-packages (from matplotlib->stable-baselines3[extra]) (1.0.5)\n",
      "Requirement already satisfied: fonttools>=4.22.0 in /home/eyepatch/anaconda3/lib/python3.9/site-packages (from matplotlib->stable-baselines3[extra]) (4.25.0)\n",
      "Requirement already satisfied: cycler>=0.10 in /home/eyepatch/anaconda3/lib/python3.9/site-packages (from matplotlib->stable-baselines3[extra]) (0.11.0)\n",
      "Requirement already satisfied: python-dateutil>=2.7 in /home/eyepatch/anaconda3/lib/python3.9/site-packages (from matplotlib->stable-baselines3[extra]) (2.8.2)\n",
      "Requirement already satisfied: pyparsing>=2.2.1 in /home/eyepatch/anaconda3/lib/python3.9/site-packages (from matplotlib->stable-baselines3[extra]) (3.0.9)\n",
      "Requirement already satisfied: kiwisolver>=1.0.1 in /home/eyepatch/anaconda3/lib/python3.9/site-packages (from matplotlib->stable-baselines3[extra]) (1.4.4)\n",
      "Requirement already satisfied: pytz>=2020.1 in /home/eyepatch/anaconda3/lib/python3.9/site-packages (from pandas->stable-baselines3[extra]) (2022.7)\n",
      "Requirement already satisfied: pygments<3.0.0,>=2.6.0 in /home/eyepatch/anaconda3/lib/python3.9/site-packages (from rich->stable-baselines3[extra]) (2.11.2)\n",
      "Requirement already satisfied: commonmark<0.10.0,>=0.9.0 in /home/eyepatch/anaconda3/lib/python3.9/site-packages (from rich->stable-baselines3[extra]) (0.9.1)\n",
      "Requirement already satisfied: cachetools<6.0,>=2.0.0 in /home/eyepatch/anaconda3/lib/python3.9/site-packages (from google-auth<3,>=1.6.3->tensorboard>=2.9.1->stable-baselines3[extra]) (5.2.0)\n",
      "Requirement already satisfied: rsa<5,>=3.1.4 in /home/eyepatch/anaconda3/lib/python3.9/site-packages (from google-auth<3,>=1.6.3->tensorboard>=2.9.1->stable-baselines3[extra]) (4.9)\n",
      "Requirement already satisfied: pyasn1-modules>=0.2.1 in /home/eyepatch/anaconda3/lib/python3.9/site-packages (from google-auth<3,>=1.6.3->tensorboard>=2.9.1->stable-baselines3[extra]) (0.2.8)\n",
      "Requirement already satisfied: six>=1.9.0 in /home/eyepatch/anaconda3/lib/python3.9/site-packages (from google-auth<3,>=1.6.3->tensorboard>=2.9.1->stable-baselines3[extra]) (1.16.0)\n",
      "Requirement already satisfied: requests-oauthlib>=0.7.0 in /home/eyepatch/anaconda3/lib/python3.9/site-packages (from google-auth-oauthlib<0.5,>=0.4.1->tensorboard>=2.9.1->stable-baselines3[extra]) (1.3.1)\n",
      "Requirement already satisfied: certifi>=2017.4.17 in /home/eyepatch/anaconda3/lib/python3.9/site-packages (from requests->autorom[accept-rom-license]~=0.4.2->stable-baselines3[extra]) (2022.12.7)\n",
      "Requirement already satisfied: urllib3<1.27,>=1.21.1 in /home/eyepatch/anaconda3/lib/python3.9/site-packages (from requests->autorom[accept-rom-license]~=0.4.2->stable-baselines3[extra]) (1.26.13)\n",
      "Requirement already satisfied: charset-normalizer<3,>=2 in /home/eyepatch/anaconda3/lib/python3.9/site-packages (from requests->autorom[accept-rom-license]~=0.4.2->stable-baselines3[extra]) (2.0.4)\n",
      "Requirement already satisfied: idna<4,>=2.5 in /home/eyepatch/anaconda3/lib/python3.9/site-packages (from requests->autorom[accept-rom-license]~=0.4.2->stable-baselines3[extra]) (3.4)\n",
      "Collecting libtorrent\n",
      "  Using cached libtorrent-2.0.7-cp39-cp39-manylinux_2_12_x86_64.manylinux2010_x86_64.whl (8.6 MB)\n",
      "Requirement already satisfied: pyasn1<0.5.0,>=0.4.6 in /home/eyepatch/anaconda3/lib/python3.9/site-packages (from pyasn1-modules>=0.2.1->google-auth<3,>=1.6.3->tensorboard>=2.9.1->stable-baselines3[extra]) (0.4.8)\n",
      "Requirement already satisfied: oauthlib>=3.0.0 in /home/eyepatch/anaconda3/lib/python3.9/site-packages (from requests-oauthlib>=0.7.0->google-auth-oauthlib<0.5,>=0.4.1->tensorboard>=2.9.1->stable-baselines3[extra]) (3.2.0)\n",
      "Building wheels for collected packages: AutoROM.accept-rom-license\n",
      "  Building wheel for AutoROM.accept-rom-license (pyproject.toml) ... \u001b[?25ldone\n",
      "\u001b[?25h  Created wheel for AutoROM.accept-rom-license: filename=AutoROM.accept_rom_license-0.5.0-py3-none-any.whl size=447759 sha256=fd1dfa756fc36a014bf2502f616a1f787d402367c2b444a2e83d2f1c6a8c72e8\n",
      "  Stored in directory: /home/eyepatch/.cache/pip/wheels/87/08/41/942b4ae7f2eca7df76401706411ab1dbc2812b85fef7454151\n",
      "Successfully built AutoROM.accept-rom-license\n",
      "Installing collected packages: libtorrent, protobuf, AutoROM.accept-rom-license, autorom, ale-py\n",
      "  Attempting uninstall: protobuf\n",
      "    Found existing installation: protobuf 3.20.1\n",
      "    Uninstalling protobuf-3.20.1:\n",
      "      Successfully uninstalled protobuf-3.20.1\n",
      "\u001b[31mERROR: pip's dependency resolver does not currently take into account all the packages that are installed. This behaviour is the source of the following dependency conflicts.\n",
      "google-api-core 2.10.1 requires protobuf<5.0.0dev,>=3.20.1, but you have protobuf 3.19.6 which is incompatible.\u001b[0m\u001b[31m\n",
      "\u001b[0mSuccessfully installed AutoROM.accept-rom-license-0.5.0 ale-py-0.7.4 autorom-0.4.2 libtorrent-2.0.7 protobuf-3.19.6\n"
     ]
    }
   ],
   "source": [
    "!pip install 'stable-baselines3[extra]'"
   ]
  },
  {
   "cell_type": "code",
   "execution_count": 5,
   "metadata": {},
   "outputs": [
    {
     "name": "stdout",
     "output_type": "stream",
     "text": [
      "Requirement already satisfied: box2d in /home/eyepatch/anaconda3/lib/python3.9/site-packages (2.3.2)\n"
     ]
    }
   ],
   "source": [
    "!pip install box2d"
   ]
  },
  {
   "cell_type": "code",
   "execution_count": null,
   "metadata": {},
   "outputs": [],
   "source": []
  }
 ],
 "metadata": {
  "kernelspec": {
   "display_name": "base",
   "language": "python",
   "name": "python3"
  },
  "language_info": {
   "codemirror_mode": {
    "name": "ipython",
    "version": 3
   },
   "file_extension": ".py",
   "mimetype": "text/x-python",
   "name": "python",
   "nbconvert_exporter": "python",
   "pygments_lexer": "ipython3",
   "version": "3.9.15"
  },
  "orig_nbformat": 4,
  "vscode": {
   "interpreter": {
    "hash": "d44946a3bef853c818cc92ed914aabd16d5c0fd4913f098d966e27a410d5ae0b"
   }
  }
 },
 "nbformat": 4,
 "nbformat_minor": 2
}
